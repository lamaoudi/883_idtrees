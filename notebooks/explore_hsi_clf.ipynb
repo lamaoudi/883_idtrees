{
 "cells": [
  {
   "cell_type": "code",
   "execution_count": 1,
   "metadata": {},
   "outputs": [
    {
     "name": "stderr",
     "output_type": "stream",
     "text": [
      "/Users/boraozaltun/.local/lib/python3.9/site-packages/pandas/compat/__init__.py:97: UserWarning: Could not import the lzma module. Your installed Python is incomplete. Attempting to use lzma compression will result in a RuntimeError.\n",
      "  warnings.warn(msg)\n"
     ]
    }
   ],
   "source": [
    "import sys\n",
    "sys.path.append(\"..\")\n",
    "\n",
    "import numpy as np\n",
    "import random\n",
    "import csv\n",
    "import time\n",
    "\n",
    "from idtrees.utils import read_tifs #, load_data # Import data utils\n",
    "%matplotlib inline \n",
    "import matplotlib.pyplot as plt\n",
    "\n",
    "from configs import *"
   ]
  },
  {
   "cell_type": "code",
   "execution_count": 2,
   "metadata": {},
   "outputs": [
    {
     "name": "stdout",
     "output_type": "stream",
     "text": [
      "Number of trees, labeled with species and bounding box:  1165\n",
      "[WARNING] Loaded box has zero shape and is sketchily inflated. TODO: skip this box\n",
      "[WARNING] Loaded box has zero shape and is sketchily inflated. TODO: skip this box\n"
     ]
    }
   ],
   "source": [
    "data = read_tifs.get_hsi_pixels()"
   ]
  },
  {
   "cell_type": "code",
   "execution_count": 3,
   "metadata": {},
   "outputs": [
    {
     "name": "stdout",
     "output_type": "stream",
     "text": [
      "Data shape:  (370, 35488)\n",
      "Number of pixels within bounding boxes:  35488\n",
      "Number of classes:  33\n"
     ]
    }
   ],
   "source": [
    "print('Data shape: ', data.shape)\n",
    "print('Number of pixels within bounding boxes: ', data.shape[1])\n",
    "class_ids = np.unique(data[0,:]) # Class_ids should start with 1\n",
    "print('Number of classes: ', class_ids.shape[0])"
   ]
  },
  {
   "cell_type": "markdown",
   "metadata": {},
   "source": [
    "# Testing baseline scikit-learn classifiers"
   ]
  },
  {
   "cell_type": "code",
   "execution_count": 4,
   "metadata": {},
   "outputs": [],
   "source": [
    "# Prepare data\n",
    "n_train = int(.8 * data.shape[1])\n",
    "xy = np.rollaxis(data, 1) # Format X into (n_samples, n_features)\n",
    "np.random.shuffle(xy) # Shuffle randomly along axis of n_samples \n",
    "X = xy[:, 1:] \n",
    "Y = xy[:, 0]"
   ]
  },
  {
   "cell_type": "code",
   "execution_count": 5,
   "metadata": {},
   "outputs": [
    {
     "name": "stdout",
     "output_type": "stream",
     "text": [
      "Shape after pca (35488, 40)\n"
     ]
    }
   ],
   "source": [
    "# Do PCA\n",
    "do_pca = True\n",
    "if do_pca:\n",
    "    from sklearn.decomposition import PCA\n",
    "    pca = PCA(n_components=40, whiten=False)\n",
    "    X = pca.fit_transform(X)\n",
    "print('Shape after pca', X.shape)"
   ]
  },
  {
   "cell_type": "code",
   "execution_count": 6,
   "metadata": {},
   "outputs": [],
   "source": [
    "X_train = X[:n_train, :]\n",
    "Y_train = Y[:n_train]\n",
    "X_val = X[n_train:, :]\n",
    "Y_val = Y[n_train:]"
   ]
  },
  {
   "cell_type": "markdown",
   "metadata": {},
   "source": [
    "## Fit and test multiclass logistic regression\n",
    "Insights:\n",
    "- Choice of solver has no effect on clf accuracy (tested newton-cg, lbfgs, saga with c=10., max_iter=1e5)\n",
    "- SAGA optimizer took significantly longer to train, but its the only optimizer that can do l1 or elasticnet penalty.\n",
    "- Reg: Best $c=1e3$. Weaker regularization, c $\\uparrow$, increases predictive accuracy. Acc. increases only by $1e{-}3$ for $c>1e3$. Oddly enough weaker regularization increases training time (c=1, 12.7s; c=1e3, 87s); maybe because optimization is more challenging. \n",
    "- max_iter > 1e5 doesnt impact clf accuracy for lbfgs solver, c=10\n",
    "- introducing class weight to balance dataset significantly reduced acc."
   ]
  },
  {
   "cell_type": "code",
   "execution_count": 7,
   "metadata": {},
   "outputs": [
    {
     "name": "stdout",
     "output_type": "stream",
     "text": [
      "Input shape: X: (28390, 40),  Y: (28390,)\n",
      "Log Reg mean acc. with c=   1.0 in          13.0 s: \t     0.5666385\n",
      "Log Reg mean acc. with c= 100.0 in          92.5 s: \t     0.6253874\n",
      "Log Reg mean acc. with c=1000.0 in         214.6 s: \t     0.6255283\n"
     ]
    }
   ],
   "source": [
    "# Fit and test multiclass logistic regression\n",
    "from sklearn.linear_model import LogisticRegression\n",
    "print('Input shape: X: {},  Y: {}'.format(X_train.shape, Y_train.shape))\n",
    "for c in [1., 1e2, 1e3]:\n",
    "    start = time.time()\n",
    "    clf = LogisticRegression(random_state=0, C = c, multi_class='multinomial', max_iter=1e5).fit(X_train, Y_train)\n",
    "    print('Log Reg mean acc. with c=%6.1f in %13.1f s: \\t%14.7f'%(c, time.time() - start , clf.score(X_val, Y_val)))\n",
    "    # clf.predict(X_test[:, :])\n",
    "    # c=1e3 - 0.62454; c=1e4 - 0."
   ]
  },
  {
   "cell_type": "code",
   "execution_count": 8,
   "metadata": {},
   "outputs": [
    {
     "name": "stdout",
     "output_type": "stream",
     "text": [
      "Random Forest score:  0.6324316708932094\n"
     ]
    }
   ],
   "source": [
    "# Check out Random Forest classifier\n",
    "from sklearn.ensemble import RandomForestClassifier\n",
    "clf = RandomForestClassifier(max_depth=20, random_state=0).fit(X_train, Y_train)\n",
    "# clf.predict(X_val[:n_samples, :])\n",
    "print('Random Forest score: ', clf.score(X_val, Y_val))"
   ]
  },
  {
   "cell_type": "code",
   "execution_count": null,
   "metadata": {},
   "outputs": [],
   "source": []
  },
  {
   "cell_type": "code",
   "execution_count": null,
   "metadata": {},
   "outputs": [],
   "source": []
  }
 ],
 "metadata": {
  "kernelspec": {
   "display_name": "Python 3",
   "language": "python",
   "name": "python3"
  },
  "language_info": {
   "codemirror_mode": {
    "name": "ipython",
    "version": 3
   },
   "file_extension": ".py",
   "mimetype": "text/x-python",
   "name": "python",
   "nbconvert_exporter": "python",
   "pygments_lexer": "ipython3",
   "version": "3.9.1"
  }
 },
 "nbformat": 4,
 "nbformat_minor": 4
}

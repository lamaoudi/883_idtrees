{
 "cells": [
  {
   "cell_type": "code",
   "execution_count": 1,
   "metadata": {},
   "outputs": [],
   "source": [
    "%matplotlib inline \n",
    "import sys\n",
    "sys.path.append(\"..\")\n",
    "\n",
    "\n",
    "import numpy as np\n",
    "import random\n",
    "import csv\n",
    "\n",
    "from idtrees.utils import read_tifs #, load_data # Import data utils\n",
    "from idtrees.utils.get_data import *\n",
    "import matplotlib.pyplot as plt\n",
    "from configs import *\n",
    "\n",
    "import pandas as pd\n",
    "from sklearn.model_selection import train_test_split\n"
   ]
  },
  {
   "cell_type": "markdown",
   "metadata": {},
   "source": [
    "### Extracting ITCs as differently sized HSI images with a Tree Species Label"
   ]
  },
  {
   "cell_type": "code",
   "execution_count": 2,
   "metadata": {},
   "outputs": [
    {
     "name": "stdout",
     "output_type": "stream",
     "text": [
      "Number of trees, labeled with species and bounding box:  1165\n",
      "[WARNING] Loaded box has zero shape and is sketchily inflated. TODO: skip this box with ID 749\n",
      "[WARNING] Loaded box has zero shape and is sketchily inflated. TODO: skip this box with ID 1046\n",
      "Classes to be used: [23. 26. 22.  2. 30. 18.]\n",
      "Counts for these classes [ 53.  97. 103. 139. 169. 367.]\n",
      "Number of trees, labeled with species and bounding box:  1165\n",
      "[WARNING] Loaded box has zero shape and is sketchily inflated. TODO: skip this box with ID 749\n",
      "[WARNING] Loaded box has zero shape and is sketchily inflated. TODO: skip this box with ID 1046\n"
     ]
    }
   ],
   "source": [
    "im_all_new, new_class_ids, class_id_val, n_px_val, sci_names, special_val_px = get_data()"
   ]
  },
  {
   "cell_type": "code",
   "execution_count": 3,
   "metadata": {},
   "outputs": [],
   "source": [
    "spectra = [] # List of spectrum per pixel # TODO write as ndarray\n",
    "class_id_new = [] # List of target per pixel \n",
    "\n",
    "for index in range(len(im_all_new)):\n",
    "    # Append the spectra and class id of all pixels in bbox to a list\n",
    "    n_px = np.prod(im_all_new[index].shape[1:])\n",
    "    spectra.append(im_all_new[index].reshape(-1, n_px))\n",
    "    class_id_new.append(new_class_ids[index] * np.ones(n_px))\n",
    "\n",
    "# Convert list into ndarray\n",
    "spectra = np.concatenate(spectra, axis=1)#.numpy())\n",
    "class_id_new = np.concatenate(class_id_new, axis=0)\n",
    "\n",
    "# Add class ids as zero'th row \n",
    "pixel_data = np.vstack((class_id_new[np.newaxis,:], spectra))\n"
   ]
  },
  {
   "cell_type": "code",
   "execution_count": 4,
   "metadata": {},
   "outputs": [],
   "source": [
    "freq = pd.DataFrame({'class_ids': class_id_val, 'num_pix': n_px_val, 'sci_names': sci_names})\n",
    "freq.loc[6, :] = ['34.', str(np.sum(special_val_px)), \"ALL OTHER\"]"
   ]
  },
  {
   "cell_type": "code",
   "execution_count": 5,
   "metadata": {},
   "outputs": [],
   "source": [
    "from sklearn.decomposition import PCA\n",
    "from sklearn.metrics import confusion_matrix\n",
    "from sklearn.model_selection import train_test_split\n",
    "from sklearn import svm, datasets"
   ]
  },
  {
   "cell_type": "code",
   "execution_count": 6,
   "metadata": {},
   "outputs": [],
   "source": [
    "# Prepare data\n",
    "n_train = int(.8 * pixel_data.shape[1])\n",
    "xy = np.rollaxis(pixel_data, 1) # Format X into (n_samples, n_features)\n",
    "np.random.shuffle(xy) # Shuffle randomly along axis of n_samples \n",
    "X = xy[:, 1:] \n",
    "Y = xy[:, 0]"
   ]
  },
  {
   "cell_type": "code",
   "execution_count": 7,
   "metadata": {},
   "outputs": [
    {
     "name": "stdout",
     "output_type": "stream",
     "text": [
      "Shape after [PCA] (35488, 360)\n"
     ]
    }
   ],
   "source": [
    "# Do PCA\n",
    "do_pca = True\n",
    "if do_pca:\n",
    "    pca = PCA(n_components='mle', whiten=False, svd_solver='full')\n",
    "    X = pca.fit_transform(X)\n",
    "print('Shape after [PCA]', X.shape)"
   ]
  },
  {
   "cell_type": "code",
   "execution_count": 8,
   "metadata": {},
   "outputs": [
    {
     "data": {
      "image/png": "[encoded data removed]",
      "text/plain": [
       "<Figure size 864x432 with 1 Axes>"
      ]
     },
     "metadata": {
      "needs_background": "light"
     },
     "output_type": "display_data"
    }
   ],
   "source": [
    "ev=pca.explained_variance_ratio_\n",
    "\n",
    "plt.figure(figsize=(12, 6))\n",
    "plt.plot(np.cumsum(ev))\n",
    "plt.xlabel('Number of components')\n",
    "plt.ylabel('Cumulative explained variance')\n",
    "plt.xlim([0,40])\n",
    "plt.savefig('../output/PCA_var_explained.pdf')\n",
    "\n",
    "plt.show()"
   ]
  },
  {
   "cell_type": "markdown",
   "metadata": {},
   "source": [
    "## 2. Rebalanced, removing Other, normalize"
   ]
  },
  {
   "cell_type": "code",
   "execution_count": 9,
   "metadata": {},
   "outputs": [],
   "source": [
    "## Lets normalize and center the data\n",
    "X_std = X - X.mean(axis=1).reshape(-1,1)\n",
    "X_std = X_std/X_std.std(axis=1).reshape(-1,1)\n",
    "\n",
    "## Lets leave out 34\n",
    "X_std = X_std[Y != 34, :]\n",
    "Y_std = Y[Y!=34]\n",
    "\n",
    "X_train, X_test, y_train, y_test = train_test_split(X_std, Y_std, test_size=0.2, random_state=2)\n"
   ]
  },
  {
   "cell_type": "code",
   "execution_count": 10,
   "metadata": {},
   "outputs": [],
   "source": [
    "def rebalance_data(X_ub, Y_ub, up_balance_scale=3.):\n",
    "    # Get classes and counts\n",
    "    vals, counts = np.unique(Y_ub, return_counts=True)\n",
    "    # See how bad the inbalance is and choose n_choose according to up_balance_scale\n",
    "    if counts.max()/counts.min() >up_balance_scale:\n",
    "        n_choose = int(counts.min()*up_balance_scale)\n",
    "    else:\n",
    "        n_choose = int(counts.max())\n",
    "\n",
    "    X_new = np.zeros((n_choose*vals.shape[0], X_ub.shape[1]))\n",
    "    Y_new = np.zeros(n_choose*vals.shape[0])\n",
    "    for i, val in enumerate(vals):\n",
    "        bool_arr = (Y_ub == val)\n",
    "        if n_choose-bool_arr.sum()<0:\n",
    "            random_idxs = np.random.randint(counts[i], size=(n_choose))\n",
    "            X_new[i*n_choose:(i+1)*n_choose,:] = X_ub[bool_arr, :][random_idxs,:]\n",
    "        else:\n",
    "            random_idxs = np.random.randint(counts[i], size=(n_choose-bool_arr.sum()))\n",
    "            X_new[i*n_choose:(i+1)*n_choose,:] = np.concatenate((X_ub[bool_arr, :],X_ub[bool_arr, :][random_idxs,:]),\n",
    "                                                                axis=0)\n",
    "        Y_new[i*n_choose:(i+1)*n_choose] = val\n",
    "    return X_new, Y_new\n",
    "X_train, y_train = rebalance_data(X_train, y_train)\n"
   ]
  },
  {
   "cell_type": "markdown",
   "metadata": {},
   "source": [
    "## 3. Running new models"
   ]
  },
  {
   "cell_type": "code",
   "execution_count": 15,
   "metadata": {
    "scrolled": false
   },
   "outputs": [
    {
     "name": "stdout",
     "output_type": "stream",
     "text": [
      "LogReg LogisticRegression(max_iter=10000.0) ==========\n",
      "LogReg\n",
      "                       precision    recall  f1-score   support\n",
      "\n",
      "       Acer rubrum L.       0.60      0.54      0.57       930\n",
      "Pinus palustris Mill.       0.97      0.88      0.92      1746\n",
      "      Quercus alba L.       0.66      0.63      0.65       890\n",
      "     Quercus coccinea       0.34      0.65      0.45       398\n",
      "Quercus laevis Walter       0.63      0.88      0.73       395\n",
      "     Quercus rubra L.       0.68      0.56      0.62      1258\n",
      "\n",
      "             accuracy                           0.70      5617\n",
      "            macro avg       0.65      0.69      0.66      5617\n",
      "         weighted avg       0.73      0.70      0.70      5617\n",
      "\n",
      "[[ 506    1  100  165    0  158]\n",
      " [   0 1541    0    0  205    0]\n",
      " [ 123    0  561   85    0  121]\n",
      " [  64    0   29  259    0   46]\n",
      " [   0   49    0    0  346    0]\n",
      " [ 154    0  154  247    0  703]]\n"
     ]
    },
    {
     "data": {
      "image/png": "[encoded data removed]",
      "text/plain": [
       "<Figure size 432x288 with 1 Axes>"
      ]
     },
     "metadata": {
      "needs_background": "light"
     },
     "output_type": "display_data"
    },
    {
     "name": "stdout",
     "output_type": "stream",
     "text": [
      "RF RandomForestClassifier(n_jobs=4) ==========\n",
      "RF\n",
      "                       precision    recall  f1-score   support\n",
      "\n",
      "       Acer rubrum L.       0.53      0.52      0.52       930\n",
      "Pinus palustris Mill.       0.94      0.94      0.94      1746\n",
      "      Quercus alba L.       0.62      0.56      0.59       890\n",
      "     Quercus coccinea       0.55      0.39      0.46       398\n",
      "Quercus laevis Walter       0.76      0.79      0.77       395\n",
      "     Quercus rubra L.       0.62      0.71      0.66      1258\n",
      "\n",
      "             accuracy                           0.71      5617\n",
      "            macro avg       0.67      0.65      0.66      5617\n",
      "         weighted avg       0.71      0.71      0.71      5617\n",
      "\n",
      "[[ 485    3  127   77    0  238]\n",
      " [   6 1640    2    0   97    1]\n",
      " [ 146    3  497   23    0  221]\n",
      " [  87    6   50  155    0  100]\n",
      " [   0   84    0    0  311    0]\n",
      " [ 198   12  125   25    0  898]]\n"
     ]
    },
    {
     "data": {
      "image/png": "[encoded data removed]",
      "text/plain": [
       "<Figure size 432x288 with 1 Axes>"
      ]
     },
     "metadata": {
      "needs_background": "light"
     },
     "output_type": "display_data"
    },
    {
     "name": "stdout",
     "output_type": "stream",
     "text": [
      "XGB XGBClassifier(base_score=None, booster=None, colsample_bylevel=None,\n",
      "              colsample_bynode=None, colsample_bytree=None, gamma=None,\n",
      "              gpu_id=None, importance_type='gain', interaction_constraints=None,\n",
      "              learning_rate=None, max_delta_step=None, max_depth=None,\n",
      "              min_child_weight=None, missing=nan, monotone_constraints=None,\n",
      "              n_estimators=100, n_jobs=None, num_parallel_tree=None,\n",
      "              random_state=None, reg_alpha=None, reg_lambda=None,\n",
      "              scale_pos_weight=None, subsample=None, tree_method=None,\n",
      "              validate_parameters=None, verbosity=None) ==========\n"
     ]
    },
    {
     "name": "stderr",
     "output_type": "stream",
     "text": [
      "/home/ozaltun/.local/lib/python3.8/site-packages/xgboost/sklearn.py:1146: UserWarning: The use of label encoder in XGBClassifier is deprecated and will be removed in a future release. To remove this warning, do the following: 1) Pass option use_label_encoder=False when constructing XGBClassifier object; and 2) Encode your labels (y) as integers starting with 0, i.e. 0, 1, 2, ..., [num_class - 1].\n",
      "  warnings.warn(label_encoder_deprecation_msg, UserWarning)\n"
     ]
    },
    {
     "name": "stdout",
     "output_type": "stream",
     "text": [
      "[13:42:39] WARNING: ../src/learner.cc:1095: Starting in XGBoost 1.3.0, the default evaluation metric used with the objective 'multi:softprob' was changed from 'merror' to 'mlogloss'. Explicitly set eval_metric if you'd like to restore the old behavior.\n"
     ]
    },
    {
     "name": "stderr",
     "output_type": "stream",
     "text": [
      "/home/ozaltun/.local/lib/python3.8/site-packages/xgboost/sklearn.py:1146: UserWarning: The use of label encoder in XGBClassifier is deprecated and will be removed in a future release. To remove this warning, do the following: 1) Pass option use_label_encoder=False when constructing XGBClassifier object; and 2) Encode your labels (y) as integers starting with 0, i.e. 0, 1, 2, ..., [num_class - 1].\n",
      "  warnings.warn(label_encoder_deprecation_msg, UserWarning)\n"
     ]
    },
    {
     "name": "stdout",
     "output_type": "stream",
     "text": [
      "[14:02:21] WARNING: ../src/learner.cc:1095: Starting in XGBoost 1.3.0, the default evaluation metric used with the objective 'multi:softprob' was changed from 'merror' to 'mlogloss'. Explicitly set eval_metric if you'd like to restore the old behavior.\n"
     ]
    },
    {
     "name": "stderr",
     "output_type": "stream",
     "text": [
      "/home/ozaltun/.local/lib/python3.8/site-packages/xgboost/sklearn.py:1146: UserWarning: The use of label encoder in XGBClassifier is deprecated and will be removed in a future release. To remove this warning, do the following: 1) Pass option use_label_encoder=False when constructing XGBClassifier object; and 2) Encode your labels (y) as integers starting with 0, i.e. 0, 1, 2, ..., [num_class - 1].\n",
      "  warnings.warn(label_encoder_deprecation_msg, UserWarning)\n"
     ]
    },
    {
     "name": "stdout",
     "output_type": "stream",
     "text": [
      "[14:21:52] WARNING: ../src/learner.cc:1095: Starting in XGBoost 1.3.0, the default evaluation metric used with the objective 'multi:softprob' was changed from 'merror' to 'mlogloss'. Explicitly set eval_metric if you'd like to restore the old behavior.\n"
     ]
    },
    {
     "name": "stderr",
     "output_type": "stream",
     "text": [
      "/home/ozaltun/.local/lib/python3.8/site-packages/xgboost/sklearn.py:1146: UserWarning: The use of label encoder in XGBClassifier is deprecated and will be removed in a future release. To remove this warning, do the following: 1) Pass option use_label_encoder=False when constructing XGBClassifier object; and 2) Encode your labels (y) as integers starting with 0, i.e. 0, 1, 2, ..., [num_class - 1].\n",
      "  warnings.warn(label_encoder_deprecation_msg, UserWarning)\n"
     ]
    },
    {
     "name": "stdout",
     "output_type": "stream",
     "text": [
      "[14:41:46] WARNING: ../src/learner.cc:1095: Starting in XGBoost 1.3.0, the default evaluation metric used with the objective 'multi:softprob' was changed from 'merror' to 'mlogloss'. Explicitly set eval_metric if you'd like to restore the old behavior.\n"
     ]
    },
    {
     "name": "stderr",
     "output_type": "stream",
     "text": [
      "/home/ozaltun/.local/lib/python3.8/site-packages/xgboost/sklearn.py:1146: UserWarning: The use of label encoder in XGBClassifier is deprecated and will be removed in a future release. To remove this warning, do the following: 1) Pass option use_label_encoder=False when constructing XGBClassifier object; and 2) Encode your labels (y) as integers starting with 0, i.e. 0, 1, 2, ..., [num_class - 1].\n",
      "  warnings.warn(label_encoder_deprecation_msg, UserWarning)\n"
     ]
    },
    {
     "name": "stdout",
     "output_type": "stream",
     "text": [
      "[15:01:16] WARNING: ../src/learner.cc:1095: Starting in XGBoost 1.3.0, the default evaluation metric used with the objective 'multi:softprob' was changed from 'merror' to 'mlogloss'. Explicitly set eval_metric if you'd like to restore the old behavior.\n"
     ]
    },
    {
     "name": "stderr",
     "output_type": "stream",
     "text": [
      "/home/ozaltun/.local/lib/python3.8/site-packages/xgboost/sklearn.py:1146: UserWarning: The use of label encoder in XGBClassifier is deprecated and will be removed in a future release. To remove this warning, do the following: 1) Pass option use_label_encoder=False when constructing XGBClassifier object; and 2) Encode your labels (y) as integers starting with 0, i.e. 0, 1, 2, ..., [num_class - 1].\n",
      "  warnings.warn(label_encoder_deprecation_msg, UserWarning)\n"
     ]
    },
    {
     "name": "stdout",
     "output_type": "stream",
     "text": [
      "[15:20:21] WARNING: ../src/learner.cc:1095: Starting in XGBoost 1.3.0, the default evaluation metric used with the objective 'multi:softprob' was changed from 'merror' to 'mlogloss'. Explicitly set eval_metric if you'd like to restore the old behavior.\n",
      "XGB\n",
      "                       precision    recall  f1-score   support\n",
      "\n",
      "       Acer rubrum L.       0.55      0.53      0.54       930\n",
      "Pinus palustris Mill.       0.97      0.93      0.95      1746\n",
      "      Quercus alba L.       0.63      0.60      0.62       890\n",
      "     Quercus coccinea       0.52      0.51      0.51       398\n",
      "Quercus laevis Walter       0.75      0.87      0.81       395\n",
      "     Quercus rubra L.       0.67      0.71      0.69      1258\n",
      "\n",
      "             accuracy                           0.73      5617\n",
      "            macro avg       0.68      0.69      0.69      5617\n",
      "         weighted avg       0.73      0.73      0.73      5617\n",
      "\n",
      "[[ 494    2  127  102    0  205]\n",
      " [   1 1632    1    0  112    0]\n",
      " [ 139    0  537   35    0  179]\n",
      " [  89    0   43  203    0   63]\n",
      " [   0   52    0    0  343    0]\n",
      " [ 176    0  140   52    0  890]]\n"
     ]
    },
    {
     "data": {
      "image/png": "[encoded data removed]",
      "text/plain": [
       "<Figure size 432x288 with 1 Axes>"
      ]
     },
     "metadata": {
      "needs_background": "light"
     },
     "output_type": "display_data"
    },
    {
     "name": "stdout",
     "output_type": "stream",
     "text": [
      "KNN KNeighborsClassifier(n_jobs=4) ==========\n",
      "KNN\n",
      "                       precision    recall  f1-score   support\n",
      "\n",
      "       Acer rubrum L.       0.50      0.52      0.51       930\n",
      "Pinus palustris Mill.       0.95      0.79      0.86      1746\n",
      "      Quercus alba L.       0.59      0.59      0.59       890\n",
      "     Quercus coccinea       0.35      0.59      0.44       398\n",
      "Quercus laevis Walter       0.48      0.85      0.61       395\n",
      "     Quercus rubra L.       0.68      0.51      0.59      1258\n",
      "\n",
      "             accuracy                           0.64      5617\n",
      "            macro avg       0.59      0.64      0.60      5617\n",
      "         weighted avg       0.68      0.64      0.65      5617\n",
      "\n",
      "[[ 482    1  129  172    1  145]\n",
      " [   4 1375    0    3  364    0]\n",
      " [ 159    0  523   82    0  126]\n",
      " [  84    2   45  234    1   32]\n",
      " [   0   59    0    0  335    1]\n",
      " [ 240    3  194  172    2  647]]\n"
     ]
    },
    {
     "data": {
      "image/png": "[encoded data removed]",
      "text/plain": [
       "<Figure size 432x288 with 1 Axes>"
      ]
     },
     "metadata": {
      "needs_background": "light"
     },
     "output_type": "display_data"
    },
    {
     "name": "stdout",
     "output_type": "stream",
     "text": [
      "SVM SVC(C=1, decision_function_shape='ovo', kernel='linear') ==========\n",
      "SVM\n",
      "                       precision    recall  f1-score   support\n",
      "\n",
      "       Acer rubrum L.       0.61      0.55      0.58       930\n",
      "Pinus palustris Mill.       0.97      0.88      0.92      1746\n",
      "      Quercus alba L.       0.70      0.62      0.65       890\n",
      "     Quercus coccinea       0.34      0.68      0.45       398\n",
      "Quercus laevis Walter       0.63      0.86      0.73       395\n",
      "     Quercus rubra L.       0.70      0.58      0.63      1258\n",
      "\n",
      "             accuracy                           0.70      5617\n",
      "            macro avg       0.66      0.70      0.66      5617\n",
      "         weighted avg       0.74      0.70      0.71      5617\n",
      "\n",
      "[[ 512    1   92  164    0  161]\n",
      " [   1 1541    0    0  204    0]\n",
      " [ 121    0  548  108    0  113]\n",
      " [  56    0   31  272    0   39]\n",
      " [   0   54    0    0  341    0]\n",
      " [ 152    0  114  265    0  727]]\n"
     ]
    },
    {
     "data": {
      "image/png": "[encoded data removed]",
      "text/plain": [
       "<Figure size 432x288 with 1 Axes>"
      ]
     },
     "metadata": {
      "needs_background": "light"
     },
     "output_type": "display_data"
    }
   ],
   "source": [
    "from sklearn.linear_model import LogisticRegression\n",
    "from sklearn.neighbors import KNeighborsClassifier\n",
    "from sklearn.svm import SVC\n",
    "from sklearn.ensemble import RandomForestClassifier\n",
    "from sklearn.naive_bayes import GaussianNB\n",
    "from xgboost import XGBClassifier\n",
    "from sklearn import model_selection\n",
    "from sklearn.utils import class_weight\n",
    "from sklearn.metrics import classification_report\n",
    "from sklearn.metrics import confusion_matrix\n",
    "\n",
    "'''\n",
    "Lightweight script to test many models and find winners\n",
    ":param X_train: training split\n",
    ":param y_train: training target vector\n",
    ":param X_test: test split\n",
    ":param y_test: test target vector\n",
    ":return: DataFrame of predictions\n",
    "'''\n",
    "\n",
    "dfs = []\n",
    "models = [('LogReg', LogisticRegression(max_iter=1e4)), \n",
    "          ('RF', RandomForestClassifier(n_jobs=4)),\n",
    "          ('XGB', XGBClassifier()),\n",
    "          ('KNN', KNeighborsClassifier(n_jobs=4)),\n",
    "          ('SVM', SVC(kernel='linear', C=1, decision_function_shape='ovo'))\n",
    "        ]\n",
    "results = []\n",
    "names = []\n",
    "scoring = ['accuracy', 'precision_weighted', 'recall_weighted', 'f1_weighted']\n",
    "target_names = sci_names\n",
    "for name, model in models:\n",
    "    print(name, model, \"=\"*10)\n",
    "    kfold = model_selection.KFold(n_splits=5, shuffle=True, random_state=90210)\n",
    "    cv_results = model_selection.cross_validate(model, X_train, y_train, cv=kfold, scoring=scoring)\n",
    "    clf = model.fit(X_train, y_train)\n",
    "    y_pred = clf.predict(X_test)\n",
    "    print(name)\n",
    "    print(classification_report(y_test, y_pred, target_names=target_names))\n",
    "    print(confusion_matrix(y_test, y_pred))\n",
    "    pd.DataFrame(classification_report(y_test, y_pred, target_names=target_names, output_dict=True)).transpose().to_csv('../output/classification_report_{}.csv'.format(name))\n",
    "    np.save('../output/confusion_matrix_{}.npy'.format(name), confusion_matrix(y_test, y_pred))\n",
    "\n",
    "    plt.imshow(confusion_matrix(y_test, y_pred), interpolation='nearest')\n",
    "    plt.xticks([i for i in range(len(target_names))], target_names)\n",
    "    plt.yticks([i for i in range(len(target_names))], target_names)\n",
    "    plt.show()\n",
    "    \n",
    "    results.append(cv_results)\n",
    "    names.append(name)\n",
    "    this_df = pd.DataFrame(cv_results)\n",
    "    this_df['model'] = name\n",
    "    dfs.append(this_df)\n",
    "final = pd.concat(dfs, ignore_index=True)"
   ]
  },
  {
   "cell_type": "code",
   "execution_count": 16,
   "metadata": {},
   "outputs": [
    {
     "data": {
      "text/html": [
       "<div>\n",
       "<style scoped>\n",
       "    .dataframe tbody tr th:only-of-type {\n",
       "        vertical-align: middle;\n",
       "    }\n",
       "\n",
       "    .dataframe tbody tr th {\n",
       "        vertical-align: top;\n",
       "    }\n",
       "\n",
       "    .dataframe thead th {\n",
       "        text-align: right;\n",
       "    }\n",
       "</style>\n",
       "<table border=\"1\" class=\"dataframe\">\n",
       "  <thead>\n",
       "    <tr style=\"text-align: right;\">\n",
       "      <th></th>\n",
       "      <th>fit_time</th>\n",
       "      <th>score_time</th>\n",
       "      <th>test_accuracy</th>\n",
       "      <th>test_precision_weighted</th>\n",
       "      <th>test_recall_weighted</th>\n",
       "      <th>test_f1_weighted</th>\n",
       "      <th>model</th>\n",
       "    </tr>\n",
       "  </thead>\n",
       "  <tbody>\n",
       "    <tr>\n",
       "      <th>0</th>\n",
       "      <td>82.396265</td>\n",
       "      <td>0.029138</td>\n",
       "      <td>0.705745</td>\n",
       "      <td>0.708072</td>\n",
       "      <td>0.705745</td>\n",
       "      <td>0.705168</td>\n",
       "      <td>LogReg</td>\n",
       "    </tr>\n",
       "    <tr>\n",
       "      <th>1</th>\n",
       "      <td>78.367996</td>\n",
       "      <td>0.029978</td>\n",
       "      <td>0.717402</td>\n",
       "      <td>0.716894</td>\n",
       "      <td>0.717402</td>\n",
       "      <td>0.716714</td>\n",
       "      <td>LogReg</td>\n",
       "    </tr>\n",
       "    <tr>\n",
       "      <th>2</th>\n",
       "      <td>88.982250</td>\n",
       "      <td>0.039203</td>\n",
       "      <td>0.703414</td>\n",
       "      <td>0.704479</td>\n",
       "      <td>0.703414</td>\n",
       "      <td>0.702739</td>\n",
       "      <td>LogReg</td>\n",
       "    </tr>\n",
       "    <tr>\n",
       "      <th>3</th>\n",
       "      <td>80.803030</td>\n",
       "      <td>0.027179</td>\n",
       "      <td>0.703247</td>\n",
       "      <td>0.704003</td>\n",
       "      <td>0.703247</td>\n",
       "      <td>0.702847</td>\n",
       "      <td>LogReg</td>\n",
       "    </tr>\n",
       "    <tr>\n",
       "      <th>4</th>\n",
       "      <td>82.882544</td>\n",
       "      <td>0.027797</td>\n",
       "      <td>0.711026</td>\n",
       "      <td>0.711490</td>\n",
       "      <td>0.711026</td>\n",
       "      <td>0.710410</td>\n",
       "      <td>LogReg</td>\n",
       "    </tr>\n",
       "    <tr>\n",
       "      <th>5</th>\n",
       "      <td>12.238061</td>\n",
       "      <td>0.170518</td>\n",
       "      <td>0.812157</td>\n",
       "      <td>0.810784</td>\n",
       "      <td>0.812157</td>\n",
       "      <td>0.810866</td>\n",
       "      <td>RF</td>\n",
       "    </tr>\n",
       "    <tr>\n",
       "      <th>6</th>\n",
       "      <td>11.318009</td>\n",
       "      <td>0.129478</td>\n",
       "      <td>0.818485</td>\n",
       "      <td>0.817136</td>\n",
       "      <td>0.818485</td>\n",
       "      <td>0.817740</td>\n",
       "      <td>RF</td>\n",
       "    </tr>\n",
       "    <tr>\n",
       "      <th>7</th>\n",
       "      <td>11.350333</td>\n",
       "      <td>0.115017</td>\n",
       "      <td>0.812823</td>\n",
       "      <td>0.812461</td>\n",
       "      <td>0.812823</td>\n",
       "      <td>0.812202</td>\n",
       "      <td>RF</td>\n",
       "    </tr>\n",
       "    <tr>\n",
       "      <th>8</th>\n",
       "      <td>11.409715</td>\n",
       "      <td>0.129143</td>\n",
       "      <td>0.815820</td>\n",
       "      <td>0.814399</td>\n",
       "      <td>0.815820</td>\n",
       "      <td>0.814787</td>\n",
       "      <td>RF</td>\n",
       "    </tr>\n",
       "    <tr>\n",
       "      <th>9</th>\n",
       "      <td>11.378823</td>\n",
       "      <td>0.118192</td>\n",
       "      <td>0.812958</td>\n",
       "      <td>0.812024</td>\n",
       "      <td>0.812958</td>\n",
       "      <td>0.812314</td>\n",
       "      <td>RF</td>\n",
       "    </tr>\n",
       "    <tr>\n",
       "      <th>10</th>\n",
       "      <td>1180.713377</td>\n",
       "      <td>0.088261</td>\n",
       "      <td>0.825146</td>\n",
       "      <td>0.824093</td>\n",
       "      <td>0.825146</td>\n",
       "      <td>0.823989</td>\n",
       "      <td>XGB</td>\n",
       "    </tr>\n",
       "    <tr>\n",
       "      <th>11</th>\n",
       "      <td>1171.518651</td>\n",
       "      <td>0.070391</td>\n",
       "      <td>0.829642</td>\n",
       "      <td>0.827972</td>\n",
       "      <td>0.829642</td>\n",
       "      <td>0.828304</td>\n",
       "      <td>XGB</td>\n",
       "    </tr>\n",
       "    <tr>\n",
       "      <th>12</th>\n",
       "      <td>1194.443580</td>\n",
       "      <td>0.063364</td>\n",
       "      <td>0.821982</td>\n",
       "      <td>0.820587</td>\n",
       "      <td>0.821982</td>\n",
       "      <td>0.821059</td>\n",
       "      <td>XGB</td>\n",
       "    </tr>\n",
       "    <tr>\n",
       "      <th>13</th>\n",
       "      <td>1168.632708</td>\n",
       "      <td>0.055702</td>\n",
       "      <td>0.828476</td>\n",
       "      <td>0.826843</td>\n",
       "      <td>0.828476</td>\n",
       "      <td>0.827286</td>\n",
       "      <td>XGB</td>\n",
       "    </tr>\n",
       "    <tr>\n",
       "      <th>14</th>\n",
       "      <td>1146.534920</td>\n",
       "      <td>0.086313</td>\n",
       "      <td>0.818288</td>\n",
       "      <td>0.816699</td>\n",
       "      <td>0.818288</td>\n",
       "      <td>0.817232</td>\n",
       "      <td>XGB</td>\n",
       "    </tr>\n",
       "    <tr>\n",
       "      <th>15</th>\n",
       "      <td>0.067740</td>\n",
       "      <td>7.503000</td>\n",
       "      <td>0.716570</td>\n",
       "      <td>0.719162</td>\n",
       "      <td>0.716570</td>\n",
       "      <td>0.713823</td>\n",
       "      <td>KNN</td>\n",
       "    </tr>\n",
       "    <tr>\n",
       "      <th>16</th>\n",
       "      <td>0.042159</td>\n",
       "      <td>5.105935</td>\n",
       "      <td>0.716570</td>\n",
       "      <td>0.718502</td>\n",
       "      <td>0.716570</td>\n",
       "      <td>0.713054</td>\n",
       "      <td>KNN</td>\n",
       "    </tr>\n",
       "    <tr>\n",
       "      <th>17</th>\n",
       "      <td>0.047011</td>\n",
       "      <td>5.002582</td>\n",
       "      <td>0.713072</td>\n",
       "      <td>0.714210</td>\n",
       "      <td>0.713072</td>\n",
       "      <td>0.709707</td>\n",
       "      <td>KNN</td>\n",
       "    </tr>\n",
       "    <tr>\n",
       "      <th>18</th>\n",
       "      <td>0.065346</td>\n",
       "      <td>5.056827</td>\n",
       "      <td>0.724230</td>\n",
       "      <td>0.724585</td>\n",
       "      <td>0.724230</td>\n",
       "      <td>0.721643</td>\n",
       "      <td>KNN</td>\n",
       "    </tr>\n",
       "    <tr>\n",
       "      <th>19</th>\n",
       "      <td>0.042195</td>\n",
       "      <td>5.058112</td>\n",
       "      <td>0.708694</td>\n",
       "      <td>0.711155</td>\n",
       "      <td>0.708694</td>\n",
       "      <td>0.706159</td>\n",
       "      <td>KNN</td>\n",
       "    </tr>\n",
       "    <tr>\n",
       "      <th>20</th>\n",
       "      <td>92.084082</td>\n",
       "      <td>21.590658</td>\n",
       "      <td>0.715570</td>\n",
       "      <td>0.720256</td>\n",
       "      <td>0.715570</td>\n",
       "      <td>0.714514</td>\n",
       "      <td>SVM</td>\n",
       "    </tr>\n",
       "    <tr>\n",
       "      <th>21</th>\n",
       "      <td>94.499407</td>\n",
       "      <td>21.689731</td>\n",
       "      <td>0.724563</td>\n",
       "      <td>0.725450</td>\n",
       "      <td>0.724563</td>\n",
       "      <td>0.723933</td>\n",
       "      <td>SVM</td>\n",
       "    </tr>\n",
       "    <tr>\n",
       "      <th>22</th>\n",
       "      <td>91.601686</td>\n",
       "      <td>21.724715</td>\n",
       "      <td>0.712739</td>\n",
       "      <td>0.715543</td>\n",
       "      <td>0.712739</td>\n",
       "      <td>0.711870</td>\n",
       "      <td>SVM</td>\n",
       "    </tr>\n",
       "    <tr>\n",
       "      <th>23</th>\n",
       "      <td>91.948867</td>\n",
       "      <td>21.598742</td>\n",
       "      <td>0.711074</td>\n",
       "      <td>0.714004</td>\n",
       "      <td>0.711074</td>\n",
       "      <td>0.710343</td>\n",
       "      <td>SVM</td>\n",
       "    </tr>\n",
       "    <tr>\n",
       "      <th>24</th>\n",
       "      <td>92.353392</td>\n",
       "      <td>21.717993</td>\n",
       "      <td>0.722518</td>\n",
       "      <td>0.726035</td>\n",
       "      <td>0.722518</td>\n",
       "      <td>0.721482</td>\n",
       "      <td>SVM</td>\n",
       "    </tr>\n",
       "  </tbody>\n",
       "</table>\n",
       "</div>"
      ],
      "text/plain": [
       "       fit_time  score_time  test_accuracy  test_precision_weighted  \\\n",
       "0     82.396265    0.029138       0.705745                 0.708072   \n",
       "1     78.367996    0.029978       0.717402                 0.716894   \n",
       "2     88.982250    0.039203       0.703414                 0.704479   \n",
       "3     80.803030    0.027179       0.703247                 0.704003   \n",
       "4     82.882544    0.027797       0.711026                 0.711490   \n",
       "5     12.238061    0.170518       0.812157                 0.810784   \n",
       "6     11.318009    0.129478       0.818485                 0.817136   \n",
       "7     11.350333    0.115017       0.812823                 0.812461   \n",
       "8     11.409715    0.129143       0.815820                 0.814399   \n",
       "9     11.378823    0.118192       0.812958                 0.812024   \n",
       "10  1180.713377    0.088261       0.825146                 0.824093   \n",
       "11  1171.518651    0.070391       0.829642                 0.827972   \n",
       "12  1194.443580    0.063364       0.821982                 0.820587   \n",
       "13  1168.632708    0.055702       0.828476                 0.826843   \n",
       "14  1146.534920    0.086313       0.818288                 0.816699   \n",
       "15     0.067740    7.503000       0.716570                 0.719162   \n",
       "16     0.042159    5.105935       0.716570                 0.718502   \n",
       "17     0.047011    5.002582       0.713072                 0.714210   \n",
       "18     0.065346    5.056827       0.724230                 0.724585   \n",
       "19     0.042195    5.058112       0.708694                 0.711155   \n",
       "20    92.084082   21.590658       0.715570                 0.720256   \n",
       "21    94.499407   21.689731       0.724563                 0.725450   \n",
       "22    91.601686   21.724715       0.712739                 0.715543   \n",
       "23    91.948867   21.598742       0.711074                 0.714004   \n",
       "24    92.353392   21.717993       0.722518                 0.726035   \n",
       "\n",
       "    test_recall_weighted  test_f1_weighted   model  \n",
       "0               0.705745          0.705168  LogReg  \n",
       "1               0.717402          0.716714  LogReg  \n",
       "2               0.703414          0.702739  LogReg  \n",
       "3               0.703247          0.702847  LogReg  \n",
       "4               0.711026          0.710410  LogReg  \n",
       "5               0.812157          0.810866      RF  \n",
       "6               0.818485          0.817740      RF  \n",
       "7               0.812823          0.812202      RF  \n",
       "8               0.815820          0.814787      RF  \n",
       "9               0.812958          0.812314      RF  \n",
       "10              0.825146          0.823989     XGB  \n",
       "11              0.829642          0.828304     XGB  \n",
       "12              0.821982          0.821059     XGB  \n",
       "13              0.828476          0.827286     XGB  \n",
       "14              0.818288          0.817232     XGB  \n",
       "15              0.716570          0.713823     KNN  \n",
       "16              0.716570          0.713054     KNN  \n",
       "17              0.713072          0.709707     KNN  \n",
       "18              0.724230          0.721643     KNN  \n",
       "19              0.708694          0.706159     KNN  \n",
       "20              0.715570          0.714514     SVM  \n",
       "21              0.724563          0.723933     SVM  \n",
       "22              0.712739          0.711870     SVM  \n",
       "23              0.711074          0.710343     SVM  \n",
       "24              0.722518          0.721482     SVM  "
      ]
     },
     "execution_count": 16,
     "metadata": {},
     "output_type": "execute_result"
    }
   ],
   "source": [
    "final = pd.concat(dfs, ignore_index=True)\n",
    "final"
   ]
  },
  {
   "cell_type": "code",
   "execution_count": 17,
   "metadata": {},
   "outputs": [],
   "source": [
    "final.to_csv(\"../output/model_runs_BO.csv\")"
   ]
  },
  {
   "cell_type": "code",
   "execution_count": 19,
   "metadata": {},
   "outputs": [
    {
     "data": {
      "text/plain": [
       "{'fit_time': array([98.60721016, 95.50671411, 91.92302942, 92.8292675 , 94.18748379]),\n",
       " 'score_time': array([23.03881216, 22.38993311, 22.18219018, 22.19167137, 22.15200639]),\n",
       " 'test_accuracy': array([0.72189647, 0.71904842, 0.71452505, 0.71251466, 0.71347185]),\n",
       " 'test_precision_weighted': array([0.72329681, 0.72166124, 0.71837132, 0.71575236, 0.71637033]),\n",
       " 'test_recall_weighted': array([0.72189647, 0.71904842, 0.71452505, 0.71251466, 0.71347185]),\n",
       " 'test_f1_weighted': array([0.72154857, 0.71842221, 0.71364389, 0.71231903, 0.71271978])}"
      ]
     },
     "execution_count": 19,
     "metadata": {},
     "output_type": "execute_result"
    }
   ],
   "source": [
    "cv_results"
   ]
  },
  {
   "cell_type": "code",
   "execution_count": 14,
   "metadata": {},
   "outputs": [
    {
     "data": {
      "text/html": [
       "<div>\n",
       "<style scoped>\n",
       "    .dataframe tbody tr th:only-of-type {\n",
       "        vertical-align: middle;\n",
       "    }\n",
       "\n",
       "    .dataframe tbody tr th {\n",
       "        vertical-align: top;\n",
       "    }\n",
       "\n",
       "    .dataframe thead th {\n",
       "        text-align: right;\n",
       "    }\n",
       "</style>\n",
       "<table border=\"1\" class=\"dataframe\">\n",
       "  <thead>\n",
       "    <tr style=\"text-align: right;\">\n",
       "      <th></th>\n",
       "      <th>precision</th>\n",
       "      <th>recall</th>\n",
       "      <th>f1-score</th>\n",
       "      <th>support</th>\n",
       "    </tr>\n",
       "  </thead>\n",
       "  <tbody>\n",
       "    <tr>\n",
       "      <th>Acer rubrum L.</th>\n",
       "      <td>0.597403</td>\n",
       "      <td>0.544086</td>\n",
       "      <td>0.569499</td>\n",
       "      <td>930.000000</td>\n",
       "    </tr>\n",
       "    <tr>\n",
       "      <th>Pinus palustris Mill.</th>\n",
       "      <td>0.968573</td>\n",
       "      <td>0.882589</td>\n",
       "      <td>0.923584</td>\n",
       "      <td>1746.000000</td>\n",
       "    </tr>\n",
       "    <tr>\n",
       "      <th>Quercus alba L.</th>\n",
       "      <td>0.664692</td>\n",
       "      <td>0.630337</td>\n",
       "      <td>0.647059</td>\n",
       "      <td>890.000000</td>\n",
       "    </tr>\n",
       "    <tr>\n",
       "      <th>Quercus coccinea</th>\n",
       "      <td>0.342593</td>\n",
       "      <td>0.650754</td>\n",
       "      <td>0.448873</td>\n",
       "      <td>398.000000</td>\n",
       "    </tr>\n",
       "    <tr>\n",
       "      <th>Quercus laevis Walter</th>\n",
       "      <td>0.627949</td>\n",
       "      <td>0.875949</td>\n",
       "      <td>0.731501</td>\n",
       "      <td>395.000000</td>\n",
       "    </tr>\n",
       "    <tr>\n",
       "      <th>Quercus rubra L.</th>\n",
       "      <td>0.683852</td>\n",
       "      <td>0.558824</td>\n",
       "      <td>0.615048</td>\n",
       "      <td>1258.000000</td>\n",
       "    </tr>\n",
       "    <tr>\n",
       "      <th>accuracy</th>\n",
       "      <td>0.697169</td>\n",
       "      <td>0.697169</td>\n",
       "      <td>0.697169</td>\n",
       "      <td>0.697169</td>\n",
       "    </tr>\n",
       "    <tr>\n",
       "      <th>macro avg</th>\n",
       "      <td>0.647510</td>\n",
       "      <td>0.690423</td>\n",
       "      <td>0.655927</td>\n",
       "      <td>5617.000000</td>\n",
       "    </tr>\n",
       "    <tr>\n",
       "      <th>weighted avg</th>\n",
       "      <td>0.726895</td>\n",
       "      <td>0.697169</td>\n",
       "      <td>0.704899</td>\n",
       "      <td>5617.000000</td>\n",
       "    </tr>\n",
       "  </tbody>\n",
       "</table>\n",
       "</div>"
      ],
      "text/plain": [
       "                       precision    recall  f1-score      support\n",
       "Acer rubrum L.          0.597403  0.544086  0.569499   930.000000\n",
       "Pinus palustris Mill.   0.968573  0.882589  0.923584  1746.000000\n",
       "Quercus alba L.         0.664692  0.630337  0.647059   890.000000\n",
       "Quercus coccinea        0.342593  0.650754  0.448873   398.000000\n",
       "Quercus laevis Walter   0.627949  0.875949  0.731501   395.000000\n",
       "Quercus rubra L.        0.683852  0.558824  0.615048  1258.000000\n",
       "accuracy                0.697169  0.697169  0.697169     0.697169\n",
       "macro avg               0.647510  0.690423  0.655927  5617.000000\n",
       "weighted avg            0.726895  0.697169  0.704899  5617.000000"
      ]
     },
     "execution_count": 14,
     "metadata": {},
     "output_type": "execute_result"
    }
   ],
   "source": []
  },
  {
   "cell_type": "code",
   "execution_count": null,
   "metadata": {},
   "outputs": [],
   "source": [
    "report = classification_report(y_test, y_pred, output_dict=True)\n",
    "\n",
    "df = pandas.DataFrame(report).transpose()"
   ]
  }
 ],
 "metadata": {
  "kernelspec": {
   "display_name": "Python 3",
   "language": "python",
   "name": "python3"
  },
  "language_info": {
   "codemirror_mode": {
    "name": "ipython",
    "version": 3
   },
   "file_extension": ".py",
   "mimetype": "text/x-python",
   "name": "python",
   "nbconvert_exporter": "python",
   "pygments_lexer": "ipython3",
   "version": "3.9.1"
  },
  "latex_envs": {
   "LaTeX_envs_menu_present": true,
   "autoclose": false,
   "autocomplete": true,
   "bibliofile": "biblio.bib",
   "cite_by": "apalike",
   "current_citInitial": 1,
   "eqLabelWithNumbers": true,
   "eqNumInitial": 1,
   "hotkeys": {
    "equation": "Ctrl-E",
    "itemize": "Ctrl-I"
   },
   "labels_anchors": false,
   "latex_user_defs": false,
   "report_style_numbering": false,
   "user_envs_cfg": false
  },
  "toc": {
   "base_numbering": 1,
   "nav_menu": {},
   "number_sections": true,
   "sideBar": true,
   "skip_h1_title": false,
   "title_cell": "Table of Contents",
   "title_sidebar": "Contents",
   "toc_cell": false,
   "toc_position": {},
   "toc_section_display": true,
   "toc_window_display": false
  },
  "varInspector": {
   "cols": {
    "lenName": 16,
    "lenType": 16,
    "lenVar": 40
   },
   "kernels_config": {
    "python": {
     "delete_cmd_postfix": "",
     "delete_cmd_prefix": "del ",
     "library": "var_list.py",
     "varRefreshCmd": "print(var_dic_list())"
    },
    "r": {
     "delete_cmd_postfix": ") ",
     "delete_cmd_prefix": "rm(",
     "library": "var_list.r",
     "varRefreshCmd": "cat(var_dic_list()) "
    }
   },
   "types_to_exclude": [
    "module",
    "function",
    "builtin_function_or_method",
    "instance",
    "_Feature"
   ],
   "window_display": false
  }
 },
 "nbformat": 4,
 "nbformat_minor": 4
}

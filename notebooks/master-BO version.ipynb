{
 "cells": [
  {
   "cell_type": "code",
   "execution_count": 1,
   "metadata": {},
   "outputs": [
    {
     "name": "stderr",
     "output_type": "stream",
     "text": [
      "/Users/boraozaltun/.local/lib/python3.9/site-packages/pandas/compat/__init__.py:97: UserWarning: Could not import the lzma module. Your installed Python is incomplete. Attempting to use lzma compression will result in a RuntimeError.\n",
      "  warnings.warn(msg)\n"
     ]
    }
   ],
   "source": [
    "%matplotlib inline \n",
    "import sys\n",
    "sys.path.append(\"..\")\n",
    "\n",
    "\n",
    "import numpy as np\n",
    "import random\n",
    "import csv\n",
    "\n",
    "from idtrees.utils import read_tifs #, load_data # Import data utils\n",
    "from idtrees.utils.get_data import *\n",
    "import matplotlib.pyplot as plt\n",
    "from configs import *\n",
    "\n",
    "import pandas as pd\n",
    "from sklearn.model_selection import train_test_split\n"
   ]
  },
  {
   "cell_type": "markdown",
   "metadata": {},
   "source": [
    "### Extracting ITCs as differently sized HSI images with a Tree Species Label"
   ]
  },
  {
   "cell_type": "code",
   "execution_count": 2,
   "metadata": {},
   "outputs": [
    {
     "name": "stdout",
     "output_type": "stream",
     "text": [
      "Number of trees, labeled with species and bounding box:  1165\n",
      "[WARNING] Loaded box has zero shape and is sketchily inflated. TODO: skip this box with ID 749\n",
      "[WARNING] Loaded box has zero shape and is sketchily inflated. TODO: skip this box with ID 1046\n",
      "Classes to be used: [23. 26. 22.  2. 30. 18.]\n",
      "Counts for these classes [ 53.  97. 103. 139. 169. 367.]\n",
      "Number of trees, labeled with species and bounding box:  1165\n",
      "[WARNING] Loaded box has zero shape and is sketchily inflated. TODO: skip this box with ID 749\n",
      "[WARNING] Loaded box has zero shape and is sketchily inflated. TODO: skip this box with ID 1046\n"
     ]
    }
   ],
   "source": [
    "im_all_new, new_class_ids, class_id_val, n_px_val, sci_names, special_val_px = get_data()"
   ]
  },
  {
   "cell_type": "code",
   "execution_count": 3,
   "metadata": {},
   "outputs": [],
   "source": [
    "spectra = [] # List of spectrum per pixel # TODO write as ndarray\n",
    "class_id_new = [] # List of target per pixel \n",
    "\n",
    "for index in range(len(im_all_new)):\n",
    "    # Append the spectra and class id of all pixels in bbox to a list\n",
    "    n_px = np.prod(im_all_new[index].shape[1:])\n",
    "    spectra.append(im_all_new[index].reshape(-1, n_px))\n",
    "    class_id_new.append(new_class_ids[index] * np.ones(n_px))\n",
    "\n",
    "# Convert list into ndarray\n",
    "spectra = np.concatenate(spectra, axis=1)#.numpy())\n",
    "class_id_new = np.concatenate(class_id_new, axis=0)\n",
    "\n",
    "# Add class ids as zero'th row \n",
    "pixel_data = np.vstack((class_id_new[np.newaxis,:], spectra))\n"
   ]
  },
  {
   "cell_type": "code",
   "execution_count": 4,
   "metadata": {},
   "outputs": [],
   "source": [
    "freq = pd.DataFrame({'class_ids': class_id_val, 'num_pix': n_px_val, 'sci_names': sci_names})\n",
    "freq.loc[6, :] = ['34.', str(np.sum(special_val_px)), \"ALL OTHER\"]"
   ]
  },
  {
   "cell_type": "code",
   "execution_count": 5,
   "metadata": {},
   "outputs": [],
   "source": [
    "from sklearn.decomposition import PCA\n",
    "from sklearn.metrics import confusion_matrix\n",
    "from sklearn.model_selection import train_test_split\n",
    "from sklearn import svm, datasets"
   ]
  },
  {
   "cell_type": "code",
   "execution_count": 6,
   "metadata": {},
   "outputs": [],
   "source": [
    "# Prepare data\n",
    "n_train = int(.8 * pixel_data.shape[1])\n",
    "xy = np.rollaxis(pixel_data, 1) # Format X into (n_samples, n_features)\n",
    "np.random.shuffle(xy) # Shuffle randomly along axis of n_samples \n",
    "X = xy[:, 1:] \n",
    "Y = xy[:, 0]"
   ]
  },
  {
   "cell_type": "code",
   "execution_count": 7,
   "metadata": {},
   "outputs": [
    {
     "name": "stdout",
     "output_type": "stream",
     "text": [
      "Shape after [PCA] (35488, 360)\n"
     ]
    }
   ],
   "source": [
    "# Do PCA\n",
    "do_pca = True\n",
    "if do_pca:\n",
    "    pca = PCA(n_components='mle', whiten=False, svd_solver='full')\n",
    "    X = pca.fit_transform(X)\n",
    "print('Shape after [PCA]', X.shape)"
   ]
  },
  {
   "cell_type": "code",
   "execution_count": 8,
   "metadata": {},
   "outputs": [],
   "source": [
    "X_train = X[:n_train, :]\n",
    "y_train = Y[:n_train]\n",
    "X_test = X[n_train:, :]\n",
    "y_test = Y[n_train:]"
   ]
  },
  {
   "cell_type": "markdown",
   "metadata": {},
   "source": [
    "## 1. Initial SVM"
   ]
  },
  {
   "cell_type": "code",
   "execution_count": 9,
   "metadata": {},
   "outputs": [],
   "source": [
    "linear = svm.SVC(kernel='linear', C=1, decision_function_shape='ovo').fit(X_train, y_train)\n",
    "rbf = svm.SVC(kernel='rbf', gamma=1, C=1, decision_function_shape='ovo').fit(X_train, y_train)\n",
    "poly = svm.SVC(kernel='poly', degree=3, C=1, decision_function_shape='ovo').fit(X_train, y_train)\n",
    "sig = svm.SVC(kernel='sigmoid', C=1, decision_function_shape='ovo').fit(X_train, y_train)"
   ]
  },
  {
   "cell_type": "code",
   "execution_count": 10,
   "metadata": {},
   "outputs": [
    {
     "name": "stdout",
     "output_type": "stream",
     "text": [
      "Accuracy Linear Kernel: 0.6108763031839954\n",
      "Accuracy Polynomial Kernel: 0.503803888419273\n",
      "Accuracy Radial Basis Kernel: 0.6107354184277262\n",
      "Accuracy Sigmoid Kernel: 0.2948717948717949\n",
      "[[ 362    2   10    0    0  306  231]\n",
      " [   0 1732    0    0   45    0   21]\n",
      " [  79    0  278    0    0  319  175]\n",
      " [  42    0    3    0    0  270   96]\n",
      " [   0  167    0    0  211    0    3]\n",
      " [  51    0   29    0    0  970  186]\n",
      " [ 160   46   92    0    8  421  783]]\n",
      "[[  77    0    4    0    0  608  222]\n",
      " [   1 1525    0    0   25  218   29]\n",
      " [  17    0   71    0    0  472  291]\n",
      " [   4    2    1    0    0  333   71]\n",
      " [   0  199    0    0  138   40    4]\n",
      " [  15    8    2    0    0 1033  178]\n",
      " [  28   52   18    0    1  679  732]]\n",
      "[[ 339    2   18    0    0  279  273]\n",
      " [   1 1751    0    0   30    0   16]\n",
      " [  81    0  260    0    0  278  232]\n",
      " [  66    2   23    6    0  217   97]\n",
      " [   0  215    0    0  163    0    3]\n",
      " [  80    3   49    1    0  918  185]\n",
      " [ 162   45   80    0    1  324  898]]\n",
      "[[ 186   30  305    0    0  275  115]\n",
      " [ 302 1079  197    0   40  129   51]\n",
      " [ 173   23  255    0    0  296  104]\n",
      " [  85   21  143    0    0  109   53]\n",
      " [  60  242   18    0   17   37    7]\n",
      " [ 256   91  372    0    0  381  136]\n",
      " [ 353   92  454    0    2  434  175]]\n"
     ]
    }
   ],
   "source": [
    "linear_pred = linear.predict(X_test)\n",
    "poly_pred = poly.predict(X_test)\n",
    "rbf_pred = rbf.predict(X_test)\n",
    "sig_pred = sig.predict(X_test)\n",
    "\n",
    "# retrieve the accuracy and print it for all 4 kernel functions\n",
    "accuracy_lin = linear.score(X_test, y_test)\n",
    "accuracy_poly = poly.score(X_test, y_test)\n",
    "accuracy_rbf = rbf.score(X_test, y_test)\n",
    "accuracy_sig = sig.score(X_test, y_test)\n",
    "\n",
    "print(\"Accuracy Linear Kernel:\", accuracy_lin)\n",
    "print(\"Accuracy Polynomial Kernel:\", accuracy_poly)\n",
    "print('Accuracy Radial Basis Kernel:', accuracy_rbf)\n",
    "print('Accuracy Sigmoid Kernel:', accuracy_sig)\n",
    "      \n",
    "# creating a confusion matrix\n",
    "cm_lin = confusion_matrix(y_test, linear_pred)\n",
    "cm_poly = confusion_matrix(y_test, poly_pred)\n",
    "cm_rbf = confusion_matrix(y_test, rbf_pred)\n",
    "cm_sig = confusion_matrix(y_test, sig_pred)\n",
    "      \n",
    "print(cm_lin)\n",
    "print(cm_poly)\n",
    "print(cm_rbf)\n",
    "print(cm_sig)"
   ]
  },
  {
   "cell_type": "markdown",
   "metadata": {},
   "source": [
    "## 2. Rebalanced, removing Other, normalize"
   ]
  },
  {
   "cell_type": "code",
   "execution_count": 9,
   "metadata": {},
   "outputs": [],
   "source": [
    "## Lets normalize and center the data\n",
    "X_std = X - X.mean(axis=1).reshape(-1,1)\n",
    "X_std = X_std/X_std.std(axis=1).reshape(-1,1)\n",
    "\n",
    "## Lets leave out 34\n",
    "X_std = X_std[Y != 34, :]\n",
    "Y_std = Y[Y!=34]\n",
    "\n",
    "X_train, X_test, y_train, y_test = train_test_split(X_std, Y_std, test_size=0.2, random_state=42)\n"
   ]
  },
  {
   "cell_type": "code",
   "execution_count": 10,
   "metadata": {},
   "outputs": [
    {
     "data": {
      "text/plain": [
       "((22468, 360), (22468,))"
      ]
     },
     "execution_count": 10,
     "metadata": {},
     "output_type": "execute_result"
    }
   ],
   "source": [
    "X_train.shape, y_train.shape"
   ]
  },
  {
   "cell_type": "code",
   "execution_count": 11,
   "metadata": {},
   "outputs": [],
   "source": [
    "def rebalance_data(X_ub, Y_ub, up_balance_scale=3.):\n",
    "    # Get classes and counts\n",
    "    vals, counts = np.unique(Y_ub, return_counts=True)\n",
    "    # See how bad the inbalance is and choose n_choose according to up_balance_scale\n",
    "    if counts.max()/counts.min() >up_balance_scale:\n",
    "        n_choose = int(counts.min()*up_balance_scale)\n",
    "    else:\n",
    "        n_choose = int(counts.max())\n",
    "\n",
    "    X_new = np.zeros((n_choose*vals.shape[0], X_ub.shape[1]))\n",
    "    Y_new = np.zeros(n_choose*vals.shape[0])\n",
    "    for i, val in enumerate(vals):\n",
    "        bool_arr = (Y_ub == val)\n",
    "        if n_choose-bool_arr.sum()<0:\n",
    "            random_idxs = np.random.randint(counts[i], size=(n_choose))\n",
    "            X_new[i*n_choose:(i+1)*n_choose,:] = X_ub[bool_arr, :][random_idxs,:]\n",
    "        else:\n",
    "            random_idxs = np.random.randint(counts[i], size=(n_choose-bool_arr.sum()))\n",
    "            X_new[i*n_choose:(i+1)*n_choose,:] = np.concatenate((X_ub[bool_arr, :],X_ub[bool_arr, :][random_idxs,:]),\n",
    "                                                                axis=0)\n",
    "        Y_new[i*n_choose:(i+1)*n_choose] = val\n",
    "    return X_new, Y_new\n",
    "X_train, y_train = rebalance_data(X_train, y_train)\n"
   ]
  },
  {
   "cell_type": "markdown",
   "metadata": {},
   "source": [
    "## 3. Re-run SVM"
   ]
  },
  {
   "cell_type": "code",
   "execution_count": 14,
   "metadata": {},
   "outputs": [],
   "source": [
    "linear = svm.SVC(kernel='linear', C=1, decision_function_shape='ovo').fit(X_train, y_train)\n",
    "rbf = svm.SVC(kernel='rbf', gamma=1, C=1, decision_function_shape='ovo').fit(X_train, y_train)\n",
    "poly = svm.SVC(kernel='poly', degree=3, C=1, decision_function_shape='ovo').fit(X_train, y_train)\n",
    "sig = svm.SVC(kernel='sigmoid', C=1, decision_function_shape='ovo').fit(X_train, y_train)"
   ]
  },
  {
   "cell_type": "code",
   "execution_count": 15,
   "metadata": {},
   "outputs": [
    {
     "name": "stdout",
     "output_type": "stream",
     "text": [
      "Accuracy Linear Kernel: 0.7058928253516111\n",
      "Accuracy Polynomial Kernel: 0.6631653907779954\n",
      "Accuracy Radial Basis Kernel: 0.6654797934840663\n",
      "Accuracy Sigmoid Kernel: 0.30852768381698414\n",
      "[[ 535    0   85  150    0  171]\n",
      " [   0 1480    0    0  211    0]\n",
      " [ 116    0  516  104    0  123]\n",
      " [  65    0   22  306    0   51]\n",
      " [   0   47    0    0  389    0]\n",
      " [ 149    0  140  218    0  739]]\n",
      "[[ 580    4   73  123    2  159]\n",
      " [   6 1378    0    0  307    0]\n",
      " [ 158    0  435  119    0  147]\n",
      " [ 107    0   51  227    0   59]\n",
      " [   0   39    0    0  397    0]\n",
      " [ 188    3  119  226    2  708]]\n",
      "[[ 548   73   99   86    0  135]\n",
      " [   1 1580    0    1  108    1]\n",
      " [ 173   70  473   46    0   97]\n",
      " [ 119   60   40  189    0   36]\n",
      " [   0  132    1    0  303    0]\n",
      " [ 232  174  153   42    0  645]]\n",
      "[[393  10 367  14  47 110]\n",
      " [ 62 615 149  23 782  60]\n",
      " [307   8 416  11  43  74]\n",
      " [168  17 191   5  27  36]\n",
      " [ 10 214  27   1 175   9]\n",
      " [410  51 508  26 122 129]]\n"
     ]
    }
   ],
   "source": [
    "linear_pred = linear.predict(X_test)\n",
    "poly_pred = poly.predict(X_test)\n",
    "rbf_pred = rbf.predict(X_test)\n",
    "sig_pred = sig.predict(X_test)\n",
    "\n",
    "# retrieve the accuracy and print it for all 4 kernel functions\n",
    "accuracy_lin = linear.score(X_test, y_test)\n",
    "accuracy_poly = poly.score(X_test, y_test)\n",
    "accuracy_rbf = rbf.score(X_test, y_test)\n",
    "accuracy_sig = sig.score(X_test, y_test)\n",
    "\n",
    "print(\"Accuracy Linear Kernel:\", accuracy_lin)\n",
    "print(\"Accuracy Polynomial Kernel:\", accuracy_poly)\n",
    "print('Accuracy Radial Basis Kernel:', accuracy_rbf)\n",
    "print('Accuracy Sigmoid Kernel:', accuracy_sig)\n",
    "      \n",
    "# creating a confusion matrix\n",
    "cm_lin = confusion_matrix(y_test, linear_pred)\n",
    "cm_poly = confusion_matrix(y_test, poly_pred)\n",
    "cm_rbf = confusion_matrix(y_test, rbf_pred)\n",
    "cm_sig = confusion_matrix(y_test, sig_pred)\n",
    "      \n",
    "print(cm_lin)\n",
    "print(cm_poly)\n",
    "print(cm_rbf)\n",
    "print(cm_sig)"
   ]
  },
  {
   "cell_type": "markdown",
   "metadata": {},
   "source": [
    "## 3. Running new models"
   ]
  },
  {
   "cell_type": "code",
   "execution_count": null,
   "metadata": {
    "scrolled": false
   },
   "outputs": [
    {
     "name": "stdout",
     "output_type": "stream",
     "text": [
      "LogReg LogisticRegression() ==========\n"
     ]
    },
    {
     "name": "stderr",
     "output_type": "stream",
     "text": [
      "/Users/boraozaltun/.asdf/installs/python/3.9.1/lib/python3.9/site-packages/sklearn/linear_model/_logistic.py:763: ConvergenceWarning: lbfgs failed to converge (status=1):\n",
      "STOP: TOTAL NO. of ITERATIONS REACHED LIMIT.\n",
      "\n",
      "Increase the number of iterations (max_iter) or scale the data as shown in:\n",
      "    https://scikit-learn.org/stable/modules/preprocessing.html\n",
      "Please also refer to the documentation for alternative solver options:\n",
      "    https://scikit-learn.org/stable/modules/linear_model.html#logistic-regression\n",
      "  n_iter_i = _check_optimize_result(\n",
      "/Users/boraozaltun/.asdf/installs/python/3.9.1/lib/python3.9/site-packages/sklearn/linear_model/_logistic.py:763: ConvergenceWarning: lbfgs failed to converge (status=1):\n",
      "STOP: TOTAL NO. of ITERATIONS REACHED LIMIT.\n",
      "\n",
      "Increase the number of iterations (max_iter) or scale the data as shown in:\n",
      "    https://scikit-learn.org/stable/modules/preprocessing.html\n",
      "Please also refer to the documentation for alternative solver options:\n",
      "    https://scikit-learn.org/stable/modules/linear_model.html#logistic-regression\n",
      "  n_iter_i = _check_optimize_result(\n",
      "/Users/boraozaltun/.asdf/installs/python/3.9.1/lib/python3.9/site-packages/sklearn/linear_model/_logistic.py:763: ConvergenceWarning: lbfgs failed to converge (status=1):\n",
      "STOP: TOTAL NO. of ITERATIONS REACHED LIMIT.\n",
      "\n",
      "Increase the number of iterations (max_iter) or scale the data as shown in:\n",
      "    https://scikit-learn.org/stable/modules/preprocessing.html\n",
      "Please also refer to the documentation for alternative solver options:\n",
      "    https://scikit-learn.org/stable/modules/linear_model.html#logistic-regression\n",
      "  n_iter_i = _check_optimize_result(\n",
      "/Users/boraozaltun/.asdf/installs/python/3.9.1/lib/python3.9/site-packages/sklearn/linear_model/_logistic.py:763: ConvergenceWarning: lbfgs failed to converge (status=1):\n",
      "STOP: TOTAL NO. of ITERATIONS REACHED LIMIT.\n",
      "\n",
      "Increase the number of iterations (max_iter) or scale the data as shown in:\n",
      "    https://scikit-learn.org/stable/modules/preprocessing.html\n",
      "Please also refer to the documentation for alternative solver options:\n",
      "    https://scikit-learn.org/stable/modules/linear_model.html#logistic-regression\n",
      "  n_iter_i = _check_optimize_result(\n",
      "/Users/boraozaltun/.asdf/installs/python/3.9.1/lib/python3.9/site-packages/sklearn/linear_model/_logistic.py:763: ConvergenceWarning: lbfgs failed to converge (status=1):\n",
      "STOP: TOTAL NO. of ITERATIONS REACHED LIMIT.\n",
      "\n",
      "Increase the number of iterations (max_iter) or scale the data as shown in:\n",
      "    https://scikit-learn.org/stable/modules/preprocessing.html\n",
      "Please also refer to the documentation for alternative solver options:\n",
      "    https://scikit-learn.org/stable/modules/linear_model.html#logistic-regression\n",
      "  n_iter_i = _check_optimize_result(\n"
     ]
    },
    {
     "name": "stdout",
     "output_type": "stream",
     "text": [
      "LogReg\n",
      "                       precision    recall  f1-score   support\n",
      "\n",
      "       Acer rubrum L.       0.57      0.59      0.58       944\n",
      "Pinus palustris Mill.       0.97      0.87      0.92      1737\n",
      "      Quercus alba L.       0.64      0.62      0.63       875\n",
      "     Quercus coccinea       0.33      0.58      0.42       420\n",
      "Quercus laevis Walter       0.61      0.89      0.72       399\n",
      "     Quercus rubra L.       0.69      0.50      0.58      1242\n",
      "\n",
      "             accuracy                           0.68      5617\n",
      "            macro avg       0.63      0.68      0.64      5617\n",
      "         weighted avg       0.71      0.68      0.69      5617\n",
      "\n",
      "[[ 558    9   93  148    2  134]\n",
      " [   1 1511    0    2  223    0]\n",
      " [ 118    0  541  126    1   89]\n",
      " [  67    0   43  245    2   63]\n",
      " [   0   42    0    0  357    0]\n",
      " [ 227    3  167  216    4  625]]\n",
      "RF RandomForestClassifier(n_jobs=4) ==========\n"
     ]
    },
    {
     "name": "stderr",
     "output_type": "stream",
     "text": [
      "/Users/boraozaltun/.asdf/installs/python/3.9.1/lib/python3.9/site-packages/sklearn/linear_model/_logistic.py:763: ConvergenceWarning: lbfgs failed to converge (status=1):\n",
      "STOP: TOTAL NO. of ITERATIONS REACHED LIMIT.\n",
      "\n",
      "Increase the number of iterations (max_iter) or scale the data as shown in:\n",
      "    https://scikit-learn.org/stable/modules/preprocessing.html\n",
      "Please also refer to the documentation for alternative solver options:\n",
      "    https://scikit-learn.org/stable/modules/linear_model.html#logistic-regression\n",
      "  n_iter_i = _check_optimize_result(\n"
     ]
    },
    {
     "name": "stdout",
     "output_type": "stream",
     "text": [
      "RF\n",
      "                       precision    recall  f1-score   support\n",
      "\n",
      "       Acer rubrum L.       0.51      0.55      0.53       944\n",
      "Pinus palustris Mill.       0.93      0.95      0.94      1737\n",
      "      Quercus alba L.       0.59      0.58      0.58       875\n",
      "     Quercus coccinea       0.48      0.38      0.43       420\n",
      "Quercus laevis Walter       0.77      0.77      0.77       399\n",
      "     Quercus rubra L.       0.63      0.62      0.63      1242\n",
      "\n",
      "             accuracy                           0.70      5617\n",
      "            macro avg       0.65      0.64      0.65      5617\n",
      "         weighted avg       0.69      0.70      0.69      5617\n",
      "\n",
      "[[ 523   10  134   82    0  195]\n",
      " [   1 1643    1    1   91    0]\n",
      " [ 161    7  509   42    0  156]\n",
      " [ 113    3   49  161    0   94]\n",
      " [   2   90    0    0  307    0]\n",
      " [ 232   18  173   49    0  770]]\n",
      "XGB XGBClassifier(base_score=None, booster=None, colsample_bylevel=None,\n",
      "              colsample_bynode=None, colsample_bytree=None, gamma=None,\n",
      "              gpu_id=None, importance_type='gain', interaction_constraints=None,\n",
      "              learning_rate=None, max_delta_step=None, max_depth=None,\n",
      "              min_child_weight=None, missing=nan, monotone_constraints=None,\n",
      "              n_estimators=100, n_jobs=None, num_parallel_tree=None,\n",
      "              random_state=None, reg_alpha=None, reg_lambda=None,\n",
      "              scale_pos_weight=None, subsample=None, tree_method=None,\n",
      "              validate_parameters=None, verbosity=None) ==========\n"
     ]
    },
    {
     "name": "stderr",
     "output_type": "stream",
     "text": [
      "/Users/boraozaltun/.asdf/installs/python/3.9.1/lib/python3.9/site-packages/xgboost/sklearn.py:1146: UserWarning: The use of label encoder in XGBClassifier is deprecated and will be removed in a future release. To remove this warning, do the following: 1) Pass option use_label_encoder=False when constructing XGBClassifier object; and 2) Encode your labels (y) as integers starting with 0, i.e. 0, 1, 2, ..., [num_class - 1].\n",
      "  warnings.warn(label_encoder_deprecation_msg, UserWarning)\n"
     ]
    },
    {
     "name": "stdout",
     "output_type": "stream",
     "text": [
      "[07:52:51] WARNING: /Users/travis/build/dmlc/xgboost/src/learner.cc:1095: Starting in XGBoost 1.3.0, the default evaluation metric used with the objective 'multi:softprob' was changed from 'merror' to 'mlogloss'. Explicitly set eval_metric if you'd like to restore the old behavior.\n"
     ]
    }
   ],
   "source": [
    "from sklearn.linear_model import LogisticRegression\n",
    "from sklearn.neighbors import KNeighborsClassifier\n",
    "from sklearn.svm import SVC\n",
    "from sklearn.ensemble import RandomForestClassifier\n",
    "from sklearn.naive_bayes import GaussianNB\n",
    "from xgboost import XGBClassifier\n",
    "from sklearn import model_selection\n",
    "from sklearn.utils import class_weight\n",
    "from sklearn.metrics import classification_report\n",
    "from sklearn.metrics import confusion_matrix\n",
    "\n",
    "'''\n",
    "Lightweight script to test many models and find winners\n",
    ":param X_train: training split\n",
    ":param y_train: training target vector\n",
    ":param X_test: test split\n",
    ":param y_test: test target vector\n",
    ":return: DataFrame of predictions\n",
    "'''\n",
    "\n",
    "dfs = []\n",
    "models = [('LogReg', LogisticRegression()), \n",
    "          ('RF', RandomForestClassifier(n_jobs=4)),\n",
    "          ('XGB', XGBClassifier()),\n",
    "          ('KNN', KNeighborsClassifier(n_jobs=4))\n",
    "        ]\n",
    "results = []\n",
    "names = []\n",
    "scoring = ['accuracy', 'precision_weighted', 'recall_weighted', 'f1_weighted']\n",
    "target_names = sci_names\n",
    "for name, model in models:\n",
    "    print(name, model, \"=\"*10)\n",
    "    kfold = model_selection.KFold(n_splits=5, shuffle=True, random_state=90210)\n",
    "    cv_results = model_selection.cross_validate(model, X_train, y_train, cv=kfold, scoring=scoring)\n",
    "    clf = model.fit(X_train, y_train)\n",
    "    y_pred = clf.predict(X_test)\n",
    "    print(name)\n",
    "    print(classification_report(y_test, y_pred, target_names=target_names))\n",
    "    print(confusion_matrix(y_test, y_pred))\n",
    "    results.append(cv_results)\n",
    "    names.append(name)\n",
    "    this_df = pd.DataFrame(cv_results)\n",
    "    this_df['model'] = name\n",
    "    dfs.append(this_df)\n",
    "final = pd.concat(dfs, ignore_index=True)"
   ]
  },
  {
   "cell_type": "code",
   "execution_count": null,
   "metadata": {},
   "outputs": [],
   "source": [
    "final"
   ]
  },
  {
   "cell_type": "code",
   "execution_count": null,
   "metadata": {},
   "outputs": [],
   "source": []
  }
 ],
 "metadata": {
  "kernelspec": {
   "display_name": "Python 3",
   "language": "python",
   "name": "python3"
  },
  "language_info": {
   "codemirror_mode": {
    "name": "ipython",
    "version": 3
   },
   "file_extension": ".py",
   "mimetype": "text/x-python",
   "name": "python",
   "nbconvert_exporter": "python",
   "pygments_lexer": "ipython3",
   "version": "3.9.1"
  },
  "latex_envs": {
   "LaTeX_envs_menu_present": true,
   "autoclose": false,
   "autocomplete": true,
   "bibliofile": "biblio.bib",
   "cite_by": "apalike",
   "current_citInitial": 1,
   "eqLabelWithNumbers": true,
   "eqNumInitial": 1,
   "hotkeys": {
    "equation": "Ctrl-E",
    "itemize": "Ctrl-I"
   },
   "labels_anchors": false,
   "latex_user_defs": false,
   "report_style_numbering": false,
   "user_envs_cfg": false
  },
  "toc": {
   "base_numbering": 1,
   "nav_menu": {},
   "number_sections": true,
   "sideBar": true,
   "skip_h1_title": false,
   "title_cell": "Table of Contents",
   "title_sidebar": "Contents",
   "toc_cell": false,
   "toc_position": {},
   "toc_section_display": true,
   "toc_window_display": false
  },
  "varInspector": {
   "cols": {
    "lenName": 16,
    "lenType": 16,
    "lenVar": 40
   },
   "kernels_config": {
    "python": {
     "delete_cmd_postfix": "",
     "delete_cmd_prefix": "del ",
     "library": "var_list.py",
     "varRefreshCmd": "print(var_dic_list())"
    },
    "r": {
     "delete_cmd_postfix": ") ",
     "delete_cmd_prefix": "rm(",
     "library": "var_list.r",
     "varRefreshCmd": "cat(var_dic_list()) "
    }
   },
   "types_to_exclude": [
    "module",
    "function",
    "builtin_function_or_method",
    "instance",
    "_Feature"
   ],
   "window_display": false
  }
 },
 "nbformat": 4,
 "nbformat_minor": 4
}

{
 "cells": [
  {
   "cell_type": "code",
   "execution_count": 1,
   "metadata": {},
   "outputs": [
    {
     "name": "stderr",
     "output_type": "stream",
     "text": [
      "/Users/boraozaltun/.local/lib/python3.9/site-packages/pandas/compat/__init__.py:97: UserWarning: Could not import the lzma module. Your installed Python is incomplete. Attempting to use lzma compression will result in a RuntimeError.\n",
      "  warnings.warn(msg)\n"
     ]
    }
   ],
   "source": [
    "%matplotlib inline \n",
    "import sys\n",
    "sys.path.append(\"..\")\n",
    "\n",
    "\n",
    "import numpy as np\n",
    "import random\n",
    "import csv\n",
    "\n",
    "from idtrees.utils import read_tifs #, load_data # Import data utils\n",
    "from idtrees.utils.get_data import *\n",
    "import matplotlib.pyplot as plt\n",
    "from configs import *\n",
    "\n",
    "import pandas as pd\n",
    "from sklearn.model_selection import train_test_split\n"
   ]
  },
  {
   "cell_type": "markdown",
   "metadata": {},
   "source": [
    "### Extracting ITCs as differently sized HSI images with a Tree Species Label"
   ]
  },
  {
   "cell_type": "code",
   "execution_count": 2,
   "metadata": {},
   "outputs": [
    {
     "name": "stdout",
     "output_type": "stream",
     "text": [
      "Number of trees, labeled with species and bounding box:  1165\n",
      "[WARNING] Loaded box has zero shape and is sketchily inflated. TODO: skip this box with ID 749\n",
      "[WARNING] Loaded box has zero shape and is sketchily inflated. TODO: skip this box with ID 1046\n",
      "Classes to be used: [23. 26. 22.  2. 30. 18.]\n",
      "Counts for these classes [ 53.  97. 103. 139. 169. 367.]\n",
      "Number of trees, labeled with species and bounding box:  1165\n",
      "[WARNING] Loaded box has zero shape and is sketchily inflated. TODO: skip this box with ID 749\n",
      "[WARNING] Loaded box has zero shape and is sketchily inflated. TODO: skip this box with ID 1046\n"
     ]
    }
   ],
   "source": [
    "im_all_new, new_class_ids, class_id_val, n_px_val, sci_names, special_val_px = get_data()"
   ]
  },
  {
   "cell_type": "code",
   "execution_count": 3,
   "metadata": {},
   "outputs": [],
   "source": [
    "spectra = [] # List of spectrum per pixel # TODO write as ndarray\n",
    "class_id_new = [] # List of target per pixel \n",
    "\n",
    "for index in range(len(im_all_new)):\n",
    "    # Append the spectra and class id of all pixels in bbox to a list\n",
    "    n_px = np.prod(im_all_new[index].shape[1:])\n",
    "    spectra.append(im_all_new[index].reshape(-1, n_px))\n",
    "    class_id_new.append(new_class_ids[index] * np.ones(n_px))\n",
    "\n",
    "# Convert list into ndarray\n",
    "spectra = np.concatenate(spectra, axis=1)#.numpy())\n",
    "class_id_new = np.concatenate(class_id_new, axis=0)\n",
    "\n",
    "# Add class ids as zero'th row \n",
    "pixel_data = np.vstack((class_id_new[np.newaxis,:], spectra))\n"
   ]
  },
  {
   "cell_type": "code",
   "execution_count": 4,
   "metadata": {},
   "outputs": [],
   "source": [
    "freq = pd.DataFrame({'class_ids': class_id_val, 'num_pix': n_px_val, 'sci_names': sci_names})\n",
    "freq.loc[6, :] = ['34.', str(np.sum(special_val_px)), \"ALL OTHER\"]"
   ]
  },
  {
   "cell_type": "code",
   "execution_count": 5,
   "metadata": {},
   "outputs": [],
   "source": [
    "from sklearn.decomposition import PCA\n",
    "from sklearn.metrics import confusion_matrix\n",
    "from sklearn.model_selection import train_test_split\n",
    "from sklearn import svm, datasets"
   ]
  },
  {
   "cell_type": "code",
   "execution_count": 6,
   "metadata": {},
   "outputs": [],
   "source": [
    "# Prepare data\n",
    "n_train = int(.8 * pixel_data.shape[1])\n",
    "xy = np.rollaxis(pixel_data, 1) # Format X into (n_samples, n_features)\n",
    "np.random.shuffle(xy) # Shuffle randomly along axis of n_samples \n",
    "X = xy[:, 1:] \n",
    "Y = xy[:, 0]"
   ]
  },
  {
   "cell_type": "code",
   "execution_count": 7,
   "metadata": {},
   "outputs": [
    {
     "name": "stdout",
     "output_type": "stream",
     "text": [
      "Shape after [PCA] (35488, 360)\n"
     ]
    }
   ],
   "source": [
    "# Do PCA\n",
    "do_pca = True\n",
    "if do_pca:\n",
    "    pca = PCA(n_components='mle', whiten=False, svd_solver='full')\n",
    "    X = pca.fit_transform(X)\n",
    "print('Shape after [PCA]', X.shape)"
   ]
  },
  {
   "cell_type": "code",
   "execution_count": 8,
   "metadata": {},
   "outputs": [],
   "source": [
    "X_train = X[:n_train, :]\n",
    "y_train = Y[:n_train]\n",
    "X_test = X[n_train:, :]\n",
    "y_test = Y[n_train:]"
   ]
  },
  {
   "cell_type": "markdown",
   "metadata": {},
   "source": [
    "## 1. Initial SVM"
   ]
  },
  {
   "cell_type": "code",
   "execution_count": 9,
   "metadata": {},
   "outputs": [],
   "source": [
    "linear = svm.SVC(kernel='linear', C=1, decision_function_shape='ovo').fit(X_train, y_train)\n",
    "rbf = svm.SVC(kernel='rbf', gamma=1, C=1, decision_function_shape='ovo').fit(X_train, y_train)\n",
    "poly = svm.SVC(kernel='poly', degree=3, C=1, decision_function_shape='ovo').fit(X_train, y_train)\n",
    "sig = svm.SVC(kernel='sigmoid', C=1, decision_function_shape='ovo').fit(X_train, y_train)"
   ]
  },
  {
   "cell_type": "code",
   "execution_count": 10,
   "metadata": {},
   "outputs": [
    {
     "name": "stdout",
     "output_type": "stream",
     "text": [
      "Accuracy Linear Kernel: 0.6138348830656523\n",
      "Accuracy Polynomial Kernel: 0.5076077768385461\n",
      "Accuracy Radial Basis Kernel: 0.6073541842772612\n",
      "Accuracy Sigmoid Kernel: 0.2738799661876585\n",
      "[[ 347    4   18    0    0  311  225]\n",
      " [   0 1694    0    0   39    0   16]\n",
      " [  82    0  304    0    0  334  175]\n",
      " [  42    0    3    0    0  251  118]\n",
      " [   0  169    0    0  258    0    6]\n",
      " [  73    0   28    0    0  980  175]\n",
      " [ 131   36   85    0   13  407  774]]\n",
      "[[  63    2    4    0    0  508  328]\n",
      " [   3 1464    0    0   20  190   72]\n",
      " [  12    0   77    0    0  404  402]\n",
      " [   4    1    4    0    0  301  104]\n",
      " [   1  227    0    0  156   35   14]\n",
      " [  19    6    5    0    0 1030  196]\n",
      " [  29   42   22    0    1  539  813]]\n",
      "[[ 360    6   20    0    0  288  231]\n",
      " [   0 1691    0    0   36    1   21]\n",
      " [  81    0  295    0    0  290  229]\n",
      " [  64    3   26    3    0  209  109]\n",
      " [   0  230    0    0  197    1    5]\n",
      " [  93    2   38    0    0  931  192]\n",
      " [ 138   47   88    0    3  336  834]]\n",
      "[[ 240  241  126   72    8   50  168]\n",
      " [  83 1093   11   69  311   39  143]\n",
      " [ 210  198  178   66   13   38  192]\n",
      " [  90  115   58   44    6   20   81]\n",
      " [  16  304    2    6   70   10   25]\n",
      " [ 240  342  169  161   27   79  238]\n",
      " [ 329  378  250  146   31   72  240]]\n"
     ]
    }
   ],
   "source": [
    "linear_pred = linear.predict(X_test)\n",
    "poly_pred = poly.predict(X_test)\n",
    "rbf_pred = rbf.predict(X_test)\n",
    "sig_pred = sig.predict(X_test)\n",
    "\n",
    "# retrieve the accuracy and print it for all 4 kernel functions\n",
    "accuracy_lin = linear.score(X_test, y_test)\n",
    "accuracy_poly = poly.score(X_test, y_test)\n",
    "accuracy_rbf = rbf.score(X_test, y_test)\n",
    "accuracy_sig = sig.score(X_test, y_test)\n",
    "\n",
    "print(\"Accuracy Linear Kernel:\", accuracy_lin)\n",
    "print(\"Accuracy Polynomial Kernel:\", accuracy_poly)\n",
    "print('Accuracy Radial Basis Kernel:', accuracy_rbf)\n",
    "print('Accuracy Sigmoid Kernel:', accuracy_sig)\n",
    "      \n",
    "# creating a confusion matrix\n",
    "cm_lin = confusion_matrix(y_test, linear_pred)\n",
    "cm_poly = confusion_matrix(y_test, poly_pred)\n",
    "cm_rbf = confusion_matrix(y_test, rbf_pred)\n",
    "cm_sig = confusion_matrix(y_test, sig_pred)\n",
    "      \n",
    "print(cm_lin)\n",
    "print(cm_poly)\n",
    "print(cm_rbf)\n",
    "print(cm_sig)"
   ]
  },
  {
   "cell_type": "markdown",
   "metadata": {},
   "source": [
    "## 2. Rebalanced, removing Other, normalize"
   ]
  },
  {
   "cell_type": "code",
   "execution_count": 23,
   "metadata": {},
   "outputs": [],
   "source": [
    "## Lets normalize and center the data\n",
    "X_std = X - X.mean(axis=1).reshape(-1,1)\n",
    "X_std = X_std/X_std.std(axis=1).reshape(-1,1)\n",
    "\n",
    "## Lets leave out 34\n",
    "X_std = X_std[Y != 34, :]\n",
    "Y_std = Y[Y!=34]\n",
    "\n",
    "X_train, X_test, y_train, y_test = train_test_split(X_std, Y_std, test_size=0.2, random_state=42)\n"
   ]
  },
  {
   "cell_type": "code",
   "execution_count": 24,
   "metadata": {},
   "outputs": [
    {
     "data": {
      "text/plain": [
       "((22468, 360), (22468,))"
      ]
     },
     "execution_count": 24,
     "metadata": {},
     "output_type": "execute_result"
    }
   ],
   "source": [
    "X_train.shape, y_train.shape"
   ]
  },
  {
   "cell_type": "code",
   "execution_count": 34,
   "metadata": {},
   "outputs": [],
   "source": [
    "def rebalance_data(X_ub, Y_ub, up_balance_scale=3.):\n",
    "    # Get classes and counts\n",
    "    vals, counts = np.unique(Y_ub, return_counts=True)\n",
    "    # See how bad the inbalance is and choose n_choose according to up_balance_scale\n",
    "    if counts.max()/counts.min() >up_balance_scale:\n",
    "        n_choose = int(counts.min()*up_balance_scale)\n",
    "    else:\n",
    "        n_choose = int(counts.max())\n",
    "\n",
    "    X_new = np.zeros((n_choose*vals.shape[0], X_ub.shape[1]))\n",
    "    Y_new = np.zeros(n_choose*vals.shape[0])\n",
    "    for i, val in enumerate(vals):\n",
    "        bool_arr = (Y_ub == val)\n",
    "        if n_choose-bool_arr.sum()<0:\n",
    "            random_idxs = np.random.randint(counts[i], size=(n_choose))\n",
    "            X_new[i*n_choose:(i+1)*n_choose,:] = X_ub[bool_arr, :][random_idxs,:]\n",
    "        else:\n",
    "            random_idxs = np.random.randint(counts[i], size=(n_choose-bool_arr.sum()))\n",
    "            X_new[i*n_choose:(i+1)*n_choose,:] = np.concatenate((X_ub[bool_arr, :],X_ub[bool_arr, :][random_idxs,:]),\n",
    "                                                                axis=0)\n",
    "        Y_new[i*n_choose:(i+1)*n_choose] = val\n",
    "    return X_new, Y_new\n",
    "X_train, y_train = rebalance_data(X_train, y_train)\n"
   ]
  },
  {
   "cell_type": "markdown",
   "metadata": {},
   "source": [
    "## 3. Re-run SVM"
   ]
  },
  {
   "cell_type": "code",
   "execution_count": 36,
   "metadata": {},
   "outputs": [],
   "source": [
    "linear = svm.SVC(kernel='linear', C=1, decision_function_shape='ovo').fit(X_train, y_train)\n",
    "rbf = svm.SVC(kernel='rbf', gamma=1, C=1, decision_function_shape='ovo').fit(X_train, y_train)\n",
    "poly = svm.SVC(kernel='poly', degree=3, C=1, decision_function_shape='ovo').fit(X_train, y_train)\n",
    "sig = svm.SVC(kernel='sigmoid', C=1, decision_function_shape='ovo').fit(X_train, y_train)"
   ]
  },
  {
   "cell_type": "code",
   "execution_count": 37,
   "metadata": {},
   "outputs": [
    {
     "name": "stdout",
     "output_type": "stream",
     "text": [
      "Accuracy Linear Kernel: 0.7010859889620794\n",
      "Accuracy Polynomial Kernel: 0.6368168061242656\n",
      "Accuracy Radial Basis Kernel: 0.6599608331849742\n",
      "Accuracy Sigmoid Kernel: 0.32419440982730996\n",
      "[[ 494    0   93  160    0  167]\n",
      " [   1 1542    0    0  197    0]\n",
      " [ 106    0  524  123    0  122]\n",
      " [  67    0   25  315    0   38]\n",
      " [   0   50    0    0  353    0]\n",
      " [ 194    0  127  209    0  710]]\n",
      "[[ 550    1   63  147    3  150]\n",
      " [   6 1378    0    7  349    0]\n",
      " [ 176    0  423  137    0  139]\n",
      " [ 113    0   38  249    0   45]\n",
      " [   0   46    0    0  357    0]\n",
      " [ 228    1  127  263    1  620]]\n",
      "[[ 547   74   97   65    0  131]\n",
      " [   1 1608    0    0  131    0]\n",
      " [ 191   83  465   33    0  103]\n",
      " [ 137   61   34  170    0   43]\n",
      " [   0  104    1    0  298    0]\n",
      " [ 243  160  171   47    0  619]]\n",
      "[[341  48 350  93  10  72]\n",
      " [ 26 808  52 103 727  24]\n",
      " [350  37 337  86  12  53]\n",
      " [147  43 163  45   9  38]\n",
      " [  2 212   2   7 173   7]\n",
      " [423 138 380 137  45 117]]\n"
     ]
    }
   ],
   "source": [
    "linear_pred = linear.predict(X_test)\n",
    "poly_pred = poly.predict(X_test)\n",
    "rbf_pred = rbf.predict(X_test)\n",
    "sig_pred = sig.predict(X_test)\n",
    "\n",
    "# retrieve the accuracy and print it for all 4 kernel functions\n",
    "accuracy_lin = linear.score(X_test, y_test)\n",
    "accuracy_poly = poly.score(X_test, y_test)\n",
    "accuracy_rbf = rbf.score(X_test, y_test)\n",
    "accuracy_sig = sig.score(X_test, y_test)\n",
    "\n",
    "print(\"Accuracy Linear Kernel:\", accuracy_lin)\n",
    "print(\"Accuracy Polynomial Kernel:\", accuracy_poly)\n",
    "print('Accuracy Radial Basis Kernel:', accuracy_rbf)\n",
    "print('Accuracy Sigmoid Kernel:', accuracy_sig)\n",
    "      \n",
    "# creating a confusion matrix\n",
    "cm_lin = confusion_matrix(y_test, linear_pred)\n",
    "cm_poly = confusion_matrix(y_test, poly_pred)\n",
    "cm_rbf = confusion_matrix(y_test, rbf_pred)\n",
    "cm_sig = confusion_matrix(y_test, sig_pred)\n",
    "      \n",
    "print(cm_lin)\n",
    "print(cm_poly)\n",
    "print(cm_rbf)\n",
    "print(cm_sig)"
   ]
  },
  {
   "cell_type": "markdown",
   "metadata": {},
   "source": [
    "## 3. Running new models"
   ]
  },
  {
   "cell_type": "code",
   "execution_count": null,
   "metadata": {
    "scrolled": true
   },
   "outputs": [
    {
     "name": "stdout",
     "output_type": "stream",
     "text": [
      "LogReg LogisticRegression() ==========\n"
     ]
    },
    {
     "name": "stderr",
     "output_type": "stream",
     "text": [
      "/Users/boraozaltun/.asdf/installs/python/3.9.1/lib/python3.9/site-packages/sklearn/linear_model/_logistic.py:763: ConvergenceWarning: lbfgs failed to converge (status=1):\n",
      "STOP: TOTAL NO. of ITERATIONS REACHED LIMIT.\n",
      "\n",
      "Increase the number of iterations (max_iter) or scale the data as shown in:\n",
      "    https://scikit-learn.org/stable/modules/preprocessing.html\n",
      "Please also refer to the documentation for alternative solver options:\n",
      "    https://scikit-learn.org/stable/modules/linear_model.html#logistic-regression\n",
      "  n_iter_i = _check_optimize_result(\n",
      "/Users/boraozaltun/.asdf/installs/python/3.9.1/lib/python3.9/site-packages/sklearn/linear_model/_logistic.py:763: ConvergenceWarning: lbfgs failed to converge (status=1):\n",
      "STOP: TOTAL NO. of ITERATIONS REACHED LIMIT.\n",
      "\n",
      "Increase the number of iterations (max_iter) or scale the data as shown in:\n",
      "    https://scikit-learn.org/stable/modules/preprocessing.html\n",
      "Please also refer to the documentation for alternative solver options:\n",
      "    https://scikit-learn.org/stable/modules/linear_model.html#logistic-regression\n",
      "  n_iter_i = _check_optimize_result(\n",
      "/Users/boraozaltun/.asdf/installs/python/3.9.1/lib/python3.9/site-packages/sklearn/linear_model/_logistic.py:763: ConvergenceWarning: lbfgs failed to converge (status=1):\n",
      "STOP: TOTAL NO. of ITERATIONS REACHED LIMIT.\n",
      "\n",
      "Increase the number of iterations (max_iter) or scale the data as shown in:\n",
      "    https://scikit-learn.org/stable/modules/preprocessing.html\n",
      "Please also refer to the documentation for alternative solver options:\n",
      "    https://scikit-learn.org/stable/modules/linear_model.html#logistic-regression\n",
      "  n_iter_i = _check_optimize_result(\n",
      "/Users/boraozaltun/.asdf/installs/python/3.9.1/lib/python3.9/site-packages/sklearn/linear_model/_logistic.py:763: ConvergenceWarning: lbfgs failed to converge (status=1):\n",
      "STOP: TOTAL NO. of ITERATIONS REACHED LIMIT.\n",
      "\n",
      "Increase the number of iterations (max_iter) or scale the data as shown in:\n",
      "    https://scikit-learn.org/stable/modules/preprocessing.html\n",
      "Please also refer to the documentation for alternative solver options:\n",
      "    https://scikit-learn.org/stable/modules/linear_model.html#logistic-regression\n",
      "  n_iter_i = _check_optimize_result(\n",
      "/Users/boraozaltun/.asdf/installs/python/3.9.1/lib/python3.9/site-packages/sklearn/linear_model/_logistic.py:763: ConvergenceWarning: lbfgs failed to converge (status=1):\n",
      "STOP: TOTAL NO. of ITERATIONS REACHED LIMIT.\n",
      "\n",
      "Increase the number of iterations (max_iter) or scale the data as shown in:\n",
      "    https://scikit-learn.org/stable/modules/preprocessing.html\n",
      "Please also refer to the documentation for alternative solver options:\n",
      "    https://scikit-learn.org/stable/modules/linear_model.html#logistic-regression\n",
      "  n_iter_i = _check_optimize_result(\n",
      "/Users/boraozaltun/.asdf/installs/python/3.9.1/lib/python3.9/site-packages/sklearn/linear_model/_logistic.py:763: ConvergenceWarning: lbfgs failed to converge (status=1):\n",
      "STOP: TOTAL NO. of ITERATIONS REACHED LIMIT.\n",
      "\n",
      "Increase the number of iterations (max_iter) or scale the data as shown in:\n",
      "    https://scikit-learn.org/stable/modules/preprocessing.html\n",
      "Please also refer to the documentation for alternative solver options:\n",
      "    https://scikit-learn.org/stable/modules/linear_model.html#logistic-regression\n",
      "  n_iter_i = _check_optimize_result(\n"
     ]
    },
    {
     "name": "stdout",
     "output_type": "stream",
     "text": [
      "LogReg\n",
      "                       precision    recall  f1-score   support\n",
      "\n",
      "       Acer rubrum L.       0.55      0.54      0.54       914\n",
      "Pinus palustris Mill.       0.96      0.86      0.91      1740\n",
      "      Quercus alba L.       0.65      0.57      0.61       875\n",
      "     Quercus coccinea       0.35      0.58      0.44       445\n",
      "Quercus laevis Walter       0.60      0.87      0.71       403\n",
      "     Quercus rubra L.       0.65      0.56      0.60      1240\n",
      "\n",
      "             accuracy                           0.68      5617\n",
      "            macro avg       0.63      0.66      0.63      5617\n",
      "         weighted avg       0.70      0.68      0.68      5617\n",
      "\n",
      "[[ 492    6  103  147    2  164]\n",
      " [   1 1504    0   10  223    2]\n",
      " [ 119    0  501  124    0  131]\n",
      " [  75    0   34  257    2   77]\n",
      " [   0   51    0    1  351    0]\n",
      " [ 212    1  132  197    6  692]]\n",
      "RF RandomForestClassifier() ==========\n",
      "RF\n",
      "                       precision    recall  f1-score   support\n",
      "\n",
      "       Acer rubrum L.       0.48      0.59      0.53       914\n",
      "Pinus palustris Mill.       0.93      0.94      0.94      1740\n",
      "      Quercus alba L.       0.56      0.58      0.57       875\n",
      "     Quercus coccinea       0.59      0.44      0.50       445\n",
      "Quercus laevis Walter       0.77      0.80      0.78       403\n",
      "     Quercus rubra L.       0.63      0.55      0.59      1240\n",
      "\n",
      "             accuracy                           0.69      5617\n",
      "            macro avg       0.66      0.65      0.65      5617\n",
      "         weighted avg       0.70      0.69      0.69      5617\n",
      "\n",
      "[[ 539   10  137   60    0  168]\n",
      " [   3 1638    1    0   98    0]\n",
      " [ 175    7  508   30    0  155]\n",
      " [ 124    7   45  196    0   73]\n",
      " [   2   78    0    0  323    0]\n",
      " [ 271   22  214   46    1  686]]\n",
      "KNN KNeighborsClassifier() ==========\n"
     ]
    }
   ],
   "source": [
    "from sklearn.linear_model import LogisticRegression\n",
    "from sklearn.neighbors import KNeighborsClassifier\n",
    "from sklearn.svm import SVC\n",
    "from sklearn.ensemble import RandomForestClassifier\n",
    "from sklearn.naive_bayes import GaussianNB\n",
    "from xgboost import XGBClassifier\n",
    "from sklearn import model_selection\n",
    "from sklearn.utils import class_weight\n",
    "from sklearn.metrics import classification_report\n",
    "from sklearn.metrics import confusion_matrix\n",
    "\n",
    "'''\n",
    "Lightweight script to test many models and find winners\n",
    ":param X_train: training split\n",
    ":param y_train: training target vector\n",
    ":param X_test: test split\n",
    ":param y_test: test target vector\n",
    ":return: DataFrame of predictions\n",
    "'''\n",
    "\n",
    "dfs = []\n",
    "models = [('LogReg', LogisticRegression()), \n",
    "          ('RF', RandomForestClassifier()),\n",
    "          ('KNN', KNeighborsClassifier()),\n",
    "          ('XGB', XGBClassifier())\n",
    "        ]\n",
    "results = []\n",
    "names = []\n",
    "scoring = ['accuracy', 'precision_weighted', 'recall_weighted', 'f1_weighted']\n",
    "target_names = sci_names\n",
    "for name, model in models:\n",
    "    print(name, model, \"=\"*10)\n",
    "    kfold = model_selection.KFold(n_splits=5, shuffle=True, random_state=90210)\n",
    "    cv_results = model_selection.cross_validate(model, X_train, y_train, cv=kfold, scoring=scoring)\n",
    "    clf = model.fit(X_train, y_train)\n",
    "    y_pred = clf.predict(X_test)\n",
    "    print(name)\n",
    "    print(classification_report(y_test, y_pred, target_names=target_names))\n",
    "    print(confusion_matrix(y_test, y_pred))\n",
    "    results.append(cv_results)\n",
    "    names.append(name)\n",
    "    this_df = pd.DataFrame(cv_results)\n",
    "    this_df['model'] = name\n",
    "    dfs.append(this_df)\n",
    "final = pd.concat(dfs, ignore_index=True)"
   ]
  },
  {
   "cell_type": "code",
   "execution_count": null,
   "metadata": {},
   "outputs": [],
   "source": [
    "final"
   ]
  },
  {
   "cell_type": "code",
   "execution_count": null,
   "metadata": {},
   "outputs": [],
   "source": []
  }
 ],
 "metadata": {
  "kernelspec": {
   "display_name": "Python 3",
   "language": "python",
   "name": "python3"
  },
  "language_info": {
   "codemirror_mode": {
    "name": "ipython",
    "version": 3
   },
   "file_extension": ".py",
   "mimetype": "text/x-python",
   "name": "python",
   "nbconvert_exporter": "python",
   "pygments_lexer": "ipython3",
   "version": "3.9.1"
  },
  "latex_envs": {
   "LaTeX_envs_menu_present": true,
   "autoclose": false,
   "autocomplete": true,
   "bibliofile": "biblio.bib",
   "cite_by": "apalike",
   "current_citInitial": 1,
   "eqLabelWithNumbers": true,
   "eqNumInitial": 1,
   "hotkeys": {
    "equation": "Ctrl-E",
    "itemize": "Ctrl-I"
   },
   "labels_anchors": false,
   "latex_user_defs": false,
   "report_style_numbering": false,
   "user_envs_cfg": false
  },
  "toc": {
   "base_numbering": 1,
   "nav_menu": {},
   "number_sections": true,
   "sideBar": true,
   "skip_h1_title": false,
   "title_cell": "Table of Contents",
   "title_sidebar": "Contents",
   "toc_cell": false,
   "toc_position": {},
   "toc_section_display": true,
   "toc_window_display": false
  },
  "varInspector": {
   "cols": {
    "lenName": 16,
    "lenType": 16,
    "lenVar": 40
   },
   "kernels_config": {
    "python": {
     "delete_cmd_postfix": "",
     "delete_cmd_prefix": "del ",
     "library": "var_list.py",
     "varRefreshCmd": "print(var_dic_list())"
    },
    "r": {
     "delete_cmd_postfix": ") ",
     "delete_cmd_prefix": "rm(",
     "library": "var_list.r",
     "varRefreshCmd": "cat(var_dic_list()) "
    }
   },
   "types_to_exclude": [
    "module",
    "function",
    "builtin_function_or_method",
    "instance",
    "_Feature"
   ],
   "window_display": false
  }
 },
 "nbformat": 4,
 "nbformat_minor": 4
}
